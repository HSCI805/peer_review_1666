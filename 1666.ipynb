{
  "nbformat": 4,
  "nbformat_minor": 0,
  "metadata": {
    "colab": {
      "provenance": [],
      "authorship_tag": "ABX9TyPWELhO+cwINowO5Px3c88y",
      "include_colab_link": true
    },
    "kernelspec": {
      "name": "ir",
      "display_name": "R"
    },
    "language_info": {
      "name": "R"
    }
  },
  "cells": [
    {
      "cell_type": "markdown",
      "metadata": {
        "id": "view-in-github",
        "colab_type": "text"
      },
      "source": [
        "<a href=\"https://colab.research.google.com/github/HSCI805/peer_review_1666/blob/main/1666.ipynb\" target=\"_parent\"><img src=\"https://colab.research.google.com/assets/colab-badge.svg\" alt=\"Open In Colab\"/></a>"
      ]
    },
    {
      "cell_type": "markdown",
      "source": [
        "# 1) Setup\n",
        "\n",
        "(Installation should take at most 1 minute)"
      ],
      "metadata": {
        "id": "w7urpajo4m52"
      }
    },
    {
      "cell_type": "code",
      "source": [
        "if ( !require('skimr') )\n",
        "  install.packages(\"skimr\")\n",
        "library(skimr)"
      ],
      "metadata": {
        "id": "PJsYbjvA4dzY"
      },
      "execution_count": 44,
      "outputs": []
    },
    {
      "cell_type": "markdown",
      "source": [
        "(installation took less than a minute)"
      ],
      "metadata": {
        "id": "qRpnsnC6_yyE"
      }
    },
    {
      "cell_type": "code",
      "source": [
        "if ( !require('sandwich') )\n",
        "  install.packages(\"sandwich\")\n",
        "library(sandwich)"
      ],
      "metadata": {
        "id": "TsuM6JGO_we7"
      },
      "execution_count": 45,
      "outputs": []
    },
    {
      "cell_type": "markdown",
      "source": [
        "(installation of ```gtsummary``` will take longer, e.g.: 924 to 930)"
      ],
      "metadata": {
        "id": "4OCta_435JK_"
      }
    },
    {
      "cell_type": "code",
      "source": [
        "if ( !require('gtsummary') )\n",
        "  install.packages(\"gtsummary\")\n",
        "library(gtsummary)  "
      ],
      "metadata": {
        "id": "k3hiJQ2j490N"
      },
      "execution_count": 46,
      "outputs": []
    },
    {
      "cell_type": "code",
      "source": [
        "library(dplyr)\n",
        "library(tidyverse)\n",
        "#library(crosstable)\n",
        "#library(rstatix)\n",
        "#library(janitor)\n",
        "library(scales)\n",
        "#library(flextable)\n",
        "library(ggplot2)\n",
        "#library(msm)\n",
        "library(xml2)\n",
        "library(rvest)"
      ],
      "metadata": {
        "id": "mOa5ViFN0GGO"
      },
      "execution_count": 47,
      "outputs": []
    },
    {
      "cell_type": "markdown",
      "source": [
        "index_df (version before Dec 4) had size 16706 x 15"
      ],
      "metadata": {
        "id": "qO_rr_TZ5WdS"
      }
    },
    {
      "cell_type": "code",
      "source": [
        "# if ( !exists('index_df0') )\n",
        "#  index_df0 <- read.csv('https://github.com/HSCI805/peer_review_1666/blob/main/index_df.csv?raw=true')\n",
        "\n",
        "  "
      ],
      "metadata": {
        "id": "zrJfJk7N2TO2"
      },
      "execution_count": 48,
      "outputs": []
    },
    {
      "cell_type": "code",
      "source": [
        "#dim(index_df0)"
      ],
      "metadata": {
        "id": "ZeuKSABx2aZQ"
      },
      "execution_count": 49,
      "outputs": []
    },
    {
      "cell_type": "markdown",
      "source": [
        "# 2) Load dataframe"
      ],
      "metadata": {
        "id": "yY6eaHa-5Szd"
      }
    },
    {
      "cell_type": "code",
      "execution_count": 50,
      "metadata": {
        "id": "7GtXi21p861Q"
      },
      "outputs": [],
      "source": [
        "if ( !exists('index_df') )\n",
        "  index_df <- read.csv('https://github.com/HSCI805/peer_review_1666/blob/main/index_df_dec4.csv?raw=true')\n",
        "\n",
        "  "
      ]
    },
    {
      "cell_type": "code",
      "source": [
        "dim(index_df)"
      ],
      "metadata": {
        "colab": {
          "base_uri": "https://localhost:8080/",
          "height": 34
        },
        "id": "rOapm7RX2BzZ",
        "outputId": "b93df80a-ec58-4a13-e569-4d2d28f6eb0b"
      },
      "execution_count": 51,
      "outputs": [
        {
          "output_type": "display_data",
          "data": {
            "text/html": [
              "<style>\n",
              ".list-inline {list-style: none; margin:0; padding: 0}\n",
              ".list-inline>li {display: inline-block}\n",
              ".list-inline>li:not(:last-child)::after {content: \"\\00b7\"; padding: 0 .5ex}\n",
              "</style>\n",
              "<ol class=list-inline><li>16706</li><li>16</li></ol>\n"
            ],
            "text/markdown": "1. 16706\n2. 16\n\n\n",
            "text/latex": "\\begin{enumerate*}\n\\item 16706\n\\item 16\n\\end{enumerate*}\n",
            "text/plain": [
              "[1] 16706    16"
            ]
          },
          "metadata": {}
        }
      ]
    },
    {
      "cell_type": "code",
      "source": [
        "# check for missing data--------------------------------------------------------\n",
        "which(is.na(index_df))\n",
        "\n",
        "# follow exclusion criteria in paper (n = 16706) -------------------------------\n",
        "index_df <- subset(index_df, (DHHGAGE != \"12 TO 14 YEARS\" # include age 20-69\n",
        "& DHHGAGE != \"15 TO 17 YEARS\" \n",
        "& DHHGAGE != \"18 TO 19 YEARS\" \n",
        "& DHHGAGE != \"80 YEARS OR MORE\"\n",
        "& DHHGAGE != \"70 TO 74 YEARS\" \n",
        "& DHHGAGE != \"75 TO 79 YEARS\" \n",
        "& GEOGPRV == \"ONTARIO\" # include Ontario\n",
        "& DHH_SEX == \"FEMALE\" # include female sex\n",
        "& PAP_022 != \"REFUSAL\" # include only yes/no response to pap test in last 3 years\n",
        "& PAP_022 != \"DON'T KNOW\" \n",
        "& PAP_022 != \"NOT STATED\"))\n",
        "\n",
        "# check to see if sample size of index_df is same as index study ---------------\n",
        "\n",
        "if (nrow(index_df) == 16706) {\n",
        "  print(\"Sample size is the same as the index study.\")\n",
        "} else {\n",
        "  print(\"Sample size is not the same as the index study.\")\n",
        "}\n"
      ],
      "metadata": {
        "colab": {
          "base_uri": "https://localhost:8080/",
          "height": 34
        },
        "id": "rdAhF6Lx0JNI",
        "outputId": "17eac0a6-b681-455c-e44d-db627b6d9471"
      },
      "execution_count": 52,
      "outputs": [
        {
          "output_type": "display_data",
          "data": {
            "text/html": [],
            "text/markdown": "",
            "text/latex": "",
            "text/plain": [
              "integer(0)"
            ]
          },
          "metadata": {}
        },
        {
          "output_type": "stream",
          "name": "stdout",
          "text": [
            "[1] \"Sample size is the same as the index study.\"\n"
          ]
        }
      ]
    },
    {
      "cell_type": "code",
      "source": [
        "# create smaller dataframe------------------------------------------------------\n",
        "index_df_2 <- index_df[c(\n",
        "  \"SDCGRES\", \"DHHGAGE\", \"INCGHH\",\n",
        "  \"EDUDR04\", \"DHHGMS\", \"SDCGLHM\",\n",
        "  \"SDCGLNG\", \"PAP_022\", \"WTS_M\"\n",
        ")]\n",
        "\n",
        "# check smaller dataframe ------------------------------------------------------\n",
        "summary(index_df_2)\n",
        "\n",
        "# convert all variables in smaller dataframe to factor--------------------------\n",
        "\n",
        "index_df_2 <- index_df_2 %>%\n",
        "  mutate(\n",
        "    SDCGRES = fct_relevel(SDCGRES),\n",
        "    DHHGAGE = fct_relevel(DHHGAGE),\n",
        "    INCGHH = fct_relevel(INCGHH),\n",
        "    EDUDR04 = fct_relevel(EDUDR04),\n",
        "    DHHGMS = fct_relevel(DHHGMS),\n",
        "    SDCGLHM = fct_relevel(SDCGLHM),\n",
        "    SDCGLNG = fct_relevel(SDCGLNG),\n",
        "    PAP_022 = fct_relevel(PAP_022)\n",
        "  )\n",
        "\n",
        "summary(index_df_2)"
      ],
      "metadata": {
        "colab": {
          "base_uri": "https://localhost:8080/",
          "height": 798
        },
        "id": "zPVl5cAn0o8O",
        "outputId": "cbd8d92c-1887-4e55-e663-d4057f4c4b18"
      },
      "execution_count": 53,
      "outputs": [
        {
          "output_type": "display_data",
          "data": {
            "text/plain": [
              "   SDCGRES            DHHGAGE             INCGHH            EDUDR04         \n",
              " Length:16706       Length:16706       Length:16706       Length:16706      \n",
              " Class :character   Class :character   Class :character   Class :character  \n",
              " Mode  :character   Mode  :character   Mode  :character   Mode  :character  \n",
              "                                                                            \n",
              "                                                                            \n",
              "                                                                            \n",
              "    DHHGMS            SDCGLHM            SDCGLNG            PAP_022         \n",
              " Length:16706       Length:16706       Length:16706       Length:16706      \n",
              " Class :character   Class :character   Class :character   Class :character  \n",
              " Mode  :character   Mode  :character   Mode  :character   Mode  :character  \n",
              "                                                                            \n",
              "                                                                            \n",
              "                                                                            \n",
              "     WTS_M        \n",
              " Min.   :  10.88  \n",
              " 1st Qu.:  83.41  \n",
              " Median : 143.91  \n",
              " Mean   : 252.44  \n",
              " 3rd Qu.: 283.24  \n",
              " Max.   :8639.38  "
            ]
          },
          "metadata": {}
        },
        {
          "output_type": "display_data",
          "data": {
            "text/plain": [
              "             SDCGRES                DHHGAGE                 INCGHH    \n",
              " 0 TO 9 YEARS    :  675   55 TO 59 YEARS:2088   $20,000-$39,999:2690  \n",
              " 10 OR MORE YEARS: 2745   60 TO 64 YEARS:1931   $40,000-$59,999:2724  \n",
              " NOT APPLICABLE  :12835   50 TO 54 YEARS:1907   $60,000-$79,999:2354  \n",
              " NOT STATED      :  451   35 TO 39 YEARS:1762   $80,000 OR MORE:5032  \n",
              "                          40 TO 44 YEARS:1745   NO OR <$20,000 :1568  \n",
              "                          30 TO 34 YEARS:1609   NOT STATED     :2338  \n",
              "                          (Other)       :5664                         \n",
              "             EDUDR04                   DHHGMS                 SDCGLHM     \n",
              " < THAN SECONDARY: 1900   COMMON-LAW      :1281   ENG. W-W/O OTHER:14406  \n",
              " NOT STATED      :  422   MARRIED         :9085   ENG./FRE. W-W/O :  122  \n",
              " OTHER POST-SEC. : 1081   NOT STATED      :  35   FRE. W-W/O OTHER:  516  \n",
              " POST-SEC. GRAD. :10349   SINGLE/NEVER MAR:3166   NOT ENGL. / FRE.: 1300  \n",
              " SECONDARY GRAD. : 2954   WIDOW/SEP/DIV   :3139   NOT STATED      :  362  \n",
              "                                                                          \n",
              "                                                                          \n",
              "             SDCGLNG                  PAP_022         WTS_M        \n",
              " ENG. W-W/O OTHER:13405   < 6 MONTHS      :3486   Min.   :  10.88  \n",
              " ENG./FRE. W-W/O : 2698   1 TO < 3 YEARS  :4262   1st Qu.:  83.41  \n",
              " FRE. W-W/O OTHER:   46   3 TO < 5 YEARS  :1027   Median : 143.91  \n",
              " NOT ENGL. / FRE.:  168   5 OR MORE YEARS :2203   Mean   : 252.44  \n",
              " NOT STATED      :  389   6 MTHS TO < 1 YR:4681   3rd Qu.: 283.24  \n",
              "                          NOT APPLICABLE  :1047   Max.   :8639.38  \n",
              "                                                                   "
            ]
          },
          "metadata": {}
        }
      ]
    },
    {
      "cell_type": "code",
      "source": [
        "# relabel and relevel immigrant status variable---------------------------------\n",
        "\n",
        "index_df_2$sdcgres <- factor(index_df_2$SDCGRES,\n",
        "  levels = c(\n",
        "    \"NOT APPLICABLE\",\n",
        "    \"0 TO 9 YEARS\",\n",
        "    \"10 OR MORE YEARS\",\n",
        "    \"NOT STATED\"\n",
        "  )\n",
        ")\n",
        "\n",
        "levels(index_df_2$sdcgres) <- c(\n",
        "  \"Non-immigrant\",\n",
        "  \"Recent immigrant\",\n",
        "  \"Non-recent immigrant\",\n",
        "  \"Unknown\"\n",
        ")"
      ],
      "metadata": {
        "id": "VXMemg_V0a3W"
      },
      "execution_count": 54,
      "outputs": []
    },
    {
      "cell_type": "code",
      "source": [],
      "metadata": {
        "id": "HfzeGYxE3-nm"
      },
      "execution_count": 55,
      "outputs": []
    },
    {
      "cell_type": "code",
      "source": [
        "# relevel age-------------------------------------------------------------------\n",
        "index_df_2$dhhgage <- factor(index_df_2$DHHGAGE,\n",
        "  levels = c(\n",
        "    \"20 TO 24 YEARS\",\n",
        "    \"25 TO 29 YEARS\",\n",
        "    \"30 TO 34 YEARS\",\n",
        "    \"35 TO 39 YEARS\",\n",
        "    \"40 TO 44 YEARS\",\n",
        "    \"45 TO 49 YEARS\",\n",
        "    \"50 TO 54 YEARS\",\n",
        "    \"55 TO 59 YEARS\",\n",
        "    \"60 TO 64 YEARS\",\n",
        "    \"65 TO 69 YEARS\"\n",
        "  )\n",
        ")\n",
        "\n",
        "# create new age column---------------------------------------------------------\n",
        "index_df_2$age <- index_df_2$DHHGAGE\n",
        "\n",
        "# recode new age column---------------------------------------------------------\n",
        "levels(index_df_2$age) <- c(\n",
        "  \"20-34\",\n",
        "  \"20-34\",\n",
        "  \"20-34\",\n",
        "  \"35-54\",\n",
        "  \"35-54\",\n",
        "  \"35-54\",\n",
        "  \"35-54\",\n",
        "  \"55-69\",\n",
        "  \"55-69\",\n",
        "  \"55-69\"\n",
        ")\n",
        "\n",
        "# relevel income----------------------------------------------------------------\n",
        "index_df_2$income <- factor(index_df_2$INCGHH,\n",
        "  levels = c(\n",
        "    \"NO OR <$20,000\",\n",
        "    \"$20,000-$39,999\",\n",
        "    \"$40,000-$59,999\",\n",
        "    \"$60,000-$79,999\",\n",
        "    \"$80,000 OR MORE\",\n",
        "    \"NOT STATED\"\n",
        "  )\n",
        ")\n",
        "\n",
        "# relabel income----------------------------------------------------------------\n",
        "levels(index_df_2$income) <- c(\n",
        "  \"Less than $20 000\",\n",
        "  \"$20,000-$39,999\",\n",
        "  \"$40,000-$59,999\",\n",
        "  \"$60,000-$79,999\",\n",
        "  \"$80,000 or more\",\n",
        "  \"Unknown\"\n",
        ")\n",
        "\n",
        "# relevel education-------------------------------------------------------------\n",
        "index_df_2$education <- factor(index_df_2$EDUDR04,\n",
        "  levels = c(\n",
        "    \"< THAN SECONDARY\",\n",
        "    \"SECONDARY GRAD.\",\n",
        "    \"OTHER POST-SEC.\",\n",
        "    \"POST-SEC. GRAD.\",\n",
        "    \"NOT STATED\"\n",
        "  )\n",
        ")\n",
        "\n",
        "# recode new education column---------------------------------------------------\n",
        "levels(index_df_2$education) <- c(\n",
        "  \"Secondary graduation or less\",\n",
        "  \"Secondary graduation or less\",\n",
        "  \"Any post-secondary education\",\n",
        "  \"Any post-secondary education\",\n",
        "  \"Unknown\"\n",
        ")\n",
        "\n",
        "# relevel marital status--------------------------------------------------------\n",
        "index_df_2$ms <- factor(index_df_2$DHHGMS,\n",
        "  levels = c(\n",
        "    \"MARRIED\",\n",
        "    \"COMMON-LAW\",\n",
        "    \"WIDOW/SEP/DIV\",\n",
        "    \"SINGLE/NEVER MAR\",\n",
        "    \"NOT STATED\"\n",
        "  )\n",
        ")\n",
        "\n",
        "# recode new marital status column-----------------------------------------------\n",
        "levels(index_df_2$ms) <- c(\n",
        "  \"Married/common-law\",\n",
        "  \"Married/common-law\",\n",
        "  \"Widowed/separated/divorced\",\n",
        "  \"Single/never married\",\n",
        "  \"Unknown\"\n",
        ")\n",
        "\n",
        "\n",
        "# create new language spoken at home column-------------------------------------\n",
        "index_df_2$language_home <- index_df_2$SDCGLHM\n",
        "\n",
        "# relevel new column languages spoken at home-----------------------------------\n",
        "levels(index_df_2$language_home) <- c(\n",
        "  \"English\", # English\n",
        "  \"English\", # English and French\n",
        "  \"Other\", # French\n",
        "  \"English\", # Other\n",
        "  \"Unknown\"\n",
        ") # Unknown\n",
        "\n",
        "# Note:\n",
        "# I think this was misdone in the original data set\n",
        "# because the only way to get 516 as the total sample as the other category in table 1,\n",
        "# is if they used French (with or without other) on it's own as the 'other' category.\n",
        "# However, It should have been the French and Other category grouped into other?\n",
        "# correct in 'extension 1'\n"
      ],
      "metadata": {
        "id": "1UeV1YE00Q63"
      },
      "execution_count": 56,
      "outputs": []
    },
    {
      "cell_type": "code",
      "source": [
        "# create new language converse column-------------------------------------------\n",
        "index_df_2$language_converse <- index_df_2$SDCGLNG\n",
        "\n",
        "# relevel new column language converse------------------------------------------\n",
        "levels(index_df_2$language_converse) <- c(\n",
        "  \"English\", # English\n",
        "  \"English\", # English and French\n",
        "  \"Other\", # French\n",
        "  \"English\", # Other\n",
        "  \"Unknown\"\n",
        ") # Unknown\n",
        "\n",
        "# I think this was misdone in the original data set,\n",
        "# because the only way to get 46 as the other category,\n",
        "# is if they used French (with or without other) on it's own as the 'other' category\n",
        "# However, It should have been the French and Other category grouped into other?\n",
        "# correct in 'extension 1'\n",
        "\n",
        "# create new column for pap test outcome----------------------------------------\n",
        "index_df_2$pap_outcome <- index_df_2$PAP_022\n",
        "\n",
        "# relevel new column pap outcome------------------------------------------------\n",
        "levels(index_df_2$pap_outcome) <- c(\n",
        "  \"Yes\",\n",
        "  \"Yes\",\n",
        "  \"No\",\n",
        "  \"No\",\n",
        "  \"Yes\",\n",
        "  \"Not applicable\"\n",
        ")\n"
      ],
      "metadata": {
        "id": "k8gccQcJ4T2s"
      },
      "execution_count": 57,
      "outputs": []
    },
    {
      "cell_type": "code",
      "source": [
        "# create descriptive statistic table--------------------------------------------\n",
        "\n",
        "## create first two rows--------------------------------------------------------\n",
        "skim(index_df_2)\n"
      ],
      "metadata": {
        "colab": {
          "base_uri": "https://localhost:8080/"
        },
        "id": "c77jG2Jr4WST",
        "outputId": "6650168d-a2fe-45ad-b77f-683b160d69e6"
      },
      "execution_count": 58,
      "outputs": [
        {
          "output_type": "stream",
          "name": "stdout",
          "text": [
            "── Data Summary ────────────────────────\n",
            "                           Values    \n",
            "Name                       index_df_2\n",
            "Number of rows             16706     \n",
            "Number of columns          18        \n",
            "_______________________              \n",
            "Column type frequency:               \n",
            "  factor                   17        \n",
            "  numeric                  1         \n",
            "________________________             \n",
            "Group variables            None      \n",
            "\n",
            "── Variable type: factor ───────────────────────────────────────────────────────\n",
            "   skim_variable     n_missing complete_rate ordered n_unique\n",
            "\u001b[90m 1\u001b[39m SDCGRES                   0             1 FALSE          4\n",
            "\u001b[90m 2\u001b[39m DHHGAGE                   0             1 FALSE         10\n",
            "\u001b[90m 3\u001b[39m INCGHH                    0             1 FALSE          6\n",
            "\u001b[90m 4\u001b[39m EDUDR04                   0             1 FALSE          5\n",
            "\u001b[90m 5\u001b[39m DHHGMS                    0             1 FALSE          5\n",
            "\u001b[90m 6\u001b[39m SDCGLHM                   0             1 FALSE          5\n",
            "\u001b[90m 7\u001b[39m SDCGLNG                   0             1 FALSE          5\n",
            "\u001b[90m 8\u001b[39m PAP_022                   0             1 FALSE          6\n",
            "\u001b[90m 9\u001b[39m sdcgres                   0             1 FALSE          4\n",
            "\u001b[90m10\u001b[39m dhhgage                   0             1 FALSE         10\n",
            "\u001b[90m11\u001b[39m age                       0             1 FALSE          3\n",
            "\u001b[90m12\u001b[39m income                    0             1 FALSE          6\n",
            "\u001b[90m13\u001b[39m education                 0             1 FALSE          3\n",
            "\u001b[90m14\u001b[39m ms                        0             1 FALSE          4\n",
            "\u001b[90m15\u001b[39m language_home             0             1 FALSE          3\n",
            "\u001b[90m16\u001b[39m language_converse         0             1 FALSE          3\n",
            "\u001b[90m17\u001b[39m pap_outcome               0             1 FALSE          3\n",
            "   top_counts                                 \n",
            "\u001b[90m 1\u001b[39m NOT: 12835, 10 : 2745, 0 T: 675, NOT: 451  \n",
            "\u001b[90m 2\u001b[39m 55 : 2088, 60 : 1931, 50 : 1907, 35 : 1762 \n",
            "\u001b[90m 3\u001b[39m $80: 5032, $40: 2724, $20: 2690, $60: 2354 \n",
            "\u001b[90m 4\u001b[39m POS: 10349, SEC: 2954, < T: 1900, OTH: 1081\n",
            "\u001b[90m 5\u001b[39m MAR: 9085, SIN: 3166, WID: 3139, COM: 1281 \n",
            "\u001b[90m 6\u001b[39m ENG: 14406, NOT: 1300, FRE: 516, NOT: 362  \n",
            "\u001b[90m 7\u001b[39m ENG: 13405, ENG: 2698, NOT: 389, NOT: 168  \n",
            "\u001b[90m 8\u001b[39m 6 M: 4681, 1 T: 4262, < 6: 3486, 5 O: 2203 \n",
            "\u001b[90m 9\u001b[39m Non: 12835, Non: 2745, Rec: 675, Unk: 451  \n",
            "\u001b[90m10\u001b[39m 55 : 2088, 60 : 1931, 50 : 1907, 35 : 1762 \n",
            "\u001b[90m11\u001b[39m 35-: 6984, 55-: 5590, 20-: 4132            \n",
            "\u001b[90m12\u001b[39m $80: 5032, $40: 2724, $20: 2690, $60: 2354 \n",
            "\u001b[90m13\u001b[39m Any: 11430, Sec: 4854, Unk: 422            \n",
            "\u001b[90m14\u001b[39m Mar: 10366, Sin: 3166, Wid: 3139, Unk: 35  \n",
            "\u001b[90m15\u001b[39m Eng: 15828, Oth: 516, Unk: 362             \n",
            "\u001b[90m16\u001b[39m Eng: 16271, Unk: 389, Oth: 46              \n",
            "\u001b[90m17\u001b[39m Yes: 12429, No: 3230, Not: 1047            \n",
            "\n",
            "── Variable type: numeric ──────────────────────────────────────────────────────\n",
            "  skim_variable n_missing complete_rate mean   sd   p0  p25  p50  p75  p100\n",
            "\u001b[90m1\u001b[39m WTS_M                 0             1 252. 343. 10.9 83.4 144. 283. \u001b[4m8\u001b[24m639.\n",
            "  hist \n",
            "\u001b[90m1\u001b[39m ▇▁▁▁▁\n"
          ]
        },
        {
          "output_type": "stream",
          "name": "stderr",
          "text": [
            "Warning message in is.null(text_repr) || nchar(text_repr) == 0L:\n",
            "“'length(x) = 2 > 1' in coercion to 'logical(1)'”\n"
          ]
        }
      ]
    },
    {
      "cell_type": "code",
      "source": [
        "# source('https://github.com/ddsjoberg/gtsummary/blob/main/R/add_overall.R')"
      ],
      "metadata": {
        "id": "BkIZ9NWP4t86"
      },
      "execution_count": 59,
      "outputs": []
    },
    {
      "cell_type": "code",
      "source": [
        "table_one <- index_df_2 %>%\n",
        "  select(\n",
        "    sdcgres, age, INCGHH, education, ms, language_home, language_converse,\n",
        "    pap_outcome\n",
        "  ) %>%\n",
        "  tbl_summary(\n",
        "    by = pap_outcome,\n",
        "    percent = \"row\",\n",
        "    statistic = list(all_categorical() ~ \"{n}\"),\n",
        "    label = list(\n",
        "      sdcgres ~ \"Immigrant status\",\n",
        "      age ~ \"Age (years)\",\n",
        "      INCGHH ~ \"Income\",\n",
        "      education ~ \"Highest level of education\",\n",
        "      ms ~ \"Marital status\",\n",
        "      language_home ~ \"Language spoken most often at home\",\n",
        "      language_converse ~ \"Language respondent could converse in\"\n",
        "    )\n",
        "  ) %>%\n",
        "  add_overall()\n",
        "\n",
        "## need to do calculations on the table so convert to dataframe-----------------\n",
        "\n",
        "table_one_df <- as_tibble(table_one)\n",
        "table_one_df <- rename(table_one_df, characteristic = `**Characteristic**`)\n",
        "table_one_df <- rename(table_one_df, total_sample = `**Overall**, N = 16,706`)\n",
        "table_one_df <- rename(table_one_df, pap_yes = `**Yes**, N = 12,429`)\n",
        "table_one_df <- rename(table_one_df, pap_no = `**No**, N = 3,230`)\n",
        "table_one_df <- rename(table_one_df, pap_na = `**Not applicable**, N = 1,047`)\n",
        "\n",
        "table_one_df <- data.frame(table_one_df)"
      ],
      "metadata": {
        "id": "7lNATDSt4JvI"
      },
      "execution_count": 60,
      "outputs": []
    },
    {
      "cell_type": "code",
      "source": [
        "## remove commas in table one dataframe-----------------------------------------\n",
        "\n",
        "table_one_df$total_sample <- gsub(\",\", \"\", table_one_df$total_sample)\n",
        "table_one_df$pap_yes <- gsub(\",\", \"\", table_one_df$pap_yes)\n",
        "table_one_df$pap_no <- gsub(\",\", \"\", table_one_df$pap_no)\n",
        "table_one_df$pap_na <- gsub(\",\", \"\", table_one_df$pap_na)\n",
        "\n",
        "## convert table one columns to numeric-----------------------------------------\n",
        "table_one_df$total_sample <- as.numeric(table_one_df$total_sample)\n",
        "table_one_df$pap_yes <- as.numeric(table_one_df$pap_yes)\n",
        "table_one_df$pap_no <- as.numeric(table_one_df$pap_no)\n",
        "table_one_df$pap_na <- as.numeric(table_one_df$pap_na)\n",
        "\n",
        "## check columns of table one---------------------------------------------------\n",
        "summary(table_one_df)\n",
        "\n",
        "## create new column for the unweighted prevalence of pap_yes ------------------\n",
        "table_one_df$pap_prevalence <- table_one_df$pap_yes / table_one_df$total_sample\n",
        "\n",
        "## create empty column for weighted_pap_prevalence------------------------------\n",
        "table_one_df[\"weighted_pap_prevalence\"] <- NA\n",
        "\n",
        "## rename weights & account for weight in immigrant classification--------------\n",
        "index_df_2$wts_m <- as.numeric(index_df_2$WTS_M)"
      ],
      "metadata": {
        "colab": {
          "base_uri": "https://localhost:8080/",
          "height": 295
        },
        "id": "STsycV5270c8",
        "outputId": "2533d12e-ddff-4b8e-9c0d-af5a61af779c"
      },
      "execution_count": 61,
      "outputs": [
        {
          "output_type": "display_data",
          "data": {
            "text/plain": [
              " characteristic      total_sample        pap_yes            pap_no       \n",
              " Length:33          Min.   :   35.0   Min.   :   26.0   Min.   :   5.00  \n",
              " Class :character   1st Qu.:  555.8   1st Qu.:  385.5   1st Qu.:  98.75  \n",
              " Mode  :character   Median : 2734.5   Median : 1989.0   Median : 505.50  \n",
              "                    Mean   : 4497.8   Mean   : 3346.3   Mean   : 869.62  \n",
              "                    3rd Qu.: 5450.5   3rd Qu.: 4009.0   3rd Qu.:1248.25  \n",
              "                    Max.   :16271.0   Max.   :12144.0   Max.   :3132.00  \n",
              "                    NA's   :7         NA's   :7         NA's   :7        \n",
              "     pap_na     \n",
              " Min.   :  2.0  \n",
              " 1st Qu.: 67.5  \n",
              " Median :202.0  \n",
              " Mean   :281.9  \n",
              " 3rd Qu.:390.2  \n",
              " Max.   :995.0  \n",
              " NA's   :7      "
            ]
          },
          "metadata": {}
        }
      ]
    },
    {
      "cell_type": "code",
      "source": [
        "### non-immigrant weighted------------------------------------------------------\n",
        "w_non_im_y <- sum(index_df_2[which(index_df_2$sdcgres == \"Non-immigrant\" & index_df_2$pap_outcome == \"Yes\"), \"wts_m\"])\n",
        "w_non_im_n <- sum(index_df_2[which(index_df_2$sdcgres == \"Non-immigrant\" & index_df_2$pap_outcome == \"No\"), \"wts_m\"])\n",
        "w_non_im_na <- sum(index_df_2[which(index_df_2$sdcgres == \"Non-immigrant\" & index_df_2$pap_outcome == \"Not applicable\"), \"wts_m\"])\n",
        "\n",
        "### non-recent immigrant weighted-----------------------------------------------\n",
        "w_non_rec_im_y <- sum(index_df_2[which(index_df_2$sdcgres == \"Non-recent immigrant\" & index_df_2$pap_outcome == \"Yes\"), \"wts_m\"])\n",
        "w_non_rec_im_n <- sum(index_df_2[which(index_df_2$sdcgres == \"Non-recent immigrant\" & index_df_2$pap_outcome == \"No\"), \"wts_m\"])\n",
        "w_non_rec_im_na <- sum(index_df_2[which(index_df_2$sdcgres == \"Non-recent immigrant\" & index_df_2$pap_outcome == \"Not applicable\"), \"wts_m\"])\n",
        "\n",
        "### recent immigrant weighted---------------------------------------------------\n",
        "w_rec_im_y <- sum(index_df_2[which(index_df_2$sdcgres == \"Recent immigrant\" & index_df_2$pap_outcome == \"Yes\"), \"wts_m\"])\n",
        "w_rec_im_n <- sum(index_df_2[which(index_df_2$sdcgres == \"Recent immigrant\" & index_df_2$pap_outcome == \"No\"), \"wts_m\"])\n",
        "w_rec_im_na <- sum(index_df_2[which(index_df_2$sdcgres == \"Recent immigrant\" & index_df_2$pap_outcome == \"Not applicable\"), \"wts_m\"])\n",
        "\n",
        "### immigrant unknown weighted--------------------------------------------------\n",
        "w_unknown_im_y <- sum(index_df_2[which(index_df_2$sdcgres == \"Unknown\" & index_df_2$pap_outcome == \"Yes\"), \"wts_m\"])\n",
        "w_unknown_im_n <- sum(index_df_2[which(index_df_2$sdcgres == \"Unknown\" & index_df_2$pap_outcome == \"No\"), \"wts_m\"])\n",
        "w_unknown_im_na <- sum(index_df_2[which(index_df_2$sdcgres == \"Unknown\" & index_df_2$pap_outcome == \"Not applicable\"), \"wts_m\"])\n",
        "\n",
        "## fill in the rows for immigration in weighted_pap_prevalence column in table_one_df\n",
        "table_one_df[5, \"weighted_pap_prevalence\"] <- (w_unknown_im_y / (w_unknown_im_n + w_unknown_im_y + w_unknown_im_na))\n",
        "table_one_df[2, \"weighted_pap_prevalence\"] <- (w_non_im_y / (w_non_im_n + w_non_im_y + w_non_im_na))\n",
        "table_one_df[4, \"weighted_pap_prevalence\"] <- (w_non_rec_im_y / (w_non_rec_im_n + w_non_rec_im_y + w_non_rec_im_na))\n",
        "table_one_df[3, \"weighted_pap_prevalence\"] <- (w_rec_im_y / (w_rec_im_n + w_rec_im_y + w_rec_im_na))\n",
        "\n",
        "## account for weight in age classification-------------------------------------"
      ],
      "metadata": {
        "id": "ZEQ1K7bt73pK"
      },
      "execution_count": 62,
      "outputs": []
    },
    {
      "cell_type": "code",
      "source": [
        "### age 20-34 weighted----------------------------------------------------------\n",
        "w_age_2034_y <- sum(index_df_2[which(index_df_2$age == \"20-34\" & index_df_2$pap_outcome == \"Yes\"), \"wts_m\"])\n",
        "w_age_2034_n <- sum(index_df_2[which(index_df_2$age == \"20-34\" & index_df_2$pap_outcome == \"No\"), \"wts_m\"])\n",
        "w_age_2034_na <- sum(index_df_2[which(index_df_2$age == \"20-34\" & index_df_2$pap_outcome == \"Not applicable\"), \"wts_m\"])\n",
        "\n",
        "### age 35-54 weighted----------------------------------------------------------\n",
        "w_age_3554_y <- sum(index_df_2[which(index_df_2$age == \"35-54\" & index_df_2$pap_outcome == \"Yes\"), \"wts_m\"])\n",
        "w_age_3554_n <- sum(index_df_2[which(index_df_2$age == \"35-54\" & index_df_2$pap_outcome == \"No\"), \"wts_m\"])\n",
        "w_age_3554_na <- sum(index_df_2[which(index_df_2$age == \"35-54\" & index_df_2$pap_outcome == \"Not applicable\"), \"wts_m\"])\n",
        "\n",
        "### age 55-69 weighted----------------------------------------------------------\n",
        "w_age_5569_y <- sum(index_df_2[which(index_df_2$age == \"55-69\" & index_df_2$pap_outcome == \"Yes\"), \"wts_m\"])\n",
        "w_age_5569_n <- sum(index_df_2[which(index_df_2$age == \"55-69\" & index_df_2$pap_outcome == \"No\"), \"wts_m\"])\n",
        "w_age_5569_na <- sum(index_df_2[which(index_df_2$age == \"55-69\" & index_df_2$pap_outcome == \"Not applicable\"), \"wts_m\"])\n",
        "\n",
        "## fill in the rows for age in weighted_pap_prevalence column in table_one_df-----\n",
        "table_one_df[7, \"weighted_pap_prevalence\"] <- (w_age_2034_y / (w_age_2034_n + w_age_2034_y + w_age_2034_na))\n",
        "table_one_df[8, \"weighted_pap_prevalence\"] <- (w_age_3554_y / (w_age_3554_n + w_age_3554_y + w_age_3554_na))\n",
        "table_one_df[9, \"weighted_pap_prevalence\"] <- (w_age_5569_y / (w_age_5569_n + w_age_5569_y + w_age_5569_na))\n",
        "\n",
        "## account for weight in income classification----------------------------------\n",
        "\n",
        "### income < 20 000-------------------------------------------------------------\n",
        "w_income_less_20000_y <- sum(index_df_2[which(index_df_2$income == \"Less than $20 000\" & index_df_2$pap_outcome == \"Yes\"), \"wts_m\"])\n",
        "w_income_less_20000_n <- sum(index_df_2[which(index_df_2$income == \"Less than $20 000\" & index_df_2$pap_outcome == \"No\"), \"wts_m\"])\n",
        "w_income_less_20000_na <- sum(index_df_2[which(index_df_2$income == \"Less than $20 000\" & index_df_2$pap_outcome == \"Not applicable\"), \"wts_m\"])\n",
        "\n",
        "### income $20,000-$39,999------------------------------------------------------\n",
        "w_income_2039_y <- sum(index_df_2[which(index_df_2$income == \"$20,000-$39,999\" & index_df_2$pap_outcome == \"Yes\"), \"wts_m\"])\n",
        "w_income_2039_n <- sum(index_df_2[which(index_df_2$income == \"$20,000-$39,999\" & index_df_2$pap_outcome == \"No\"), \"wts_m\"])\n",
        "w_income_2039_na <- sum(index_df_2[which(index_df_2$income == \"$20,000-$39,999\" & index_df_2$pap_outcome == \"Not applicable\"), \"wts_m\"])\n",
        "\n",
        "### income $40,000-$59,999------------------------------------------------------\n",
        "w_income_4059_y <- sum(index_df_2[which(index_df_2$income == \"$40,000-$59,999\" & index_df_2$pap_outcome == \"Yes\"), \"wts_m\"])\n",
        "w_income_4059_n <- sum(index_df_2[which(index_df_2$income == \"$40,000-$59,999\" & index_df_2$pap_outcome == \"No\"), \"wts_m\"])\n",
        "w_income_4059_na <- sum(index_df_2[which(index_df_2$income == \"$40,000-$59,999\" & index_df_2$pap_outcome == \"Not applicable\"), \"wts_m\"])\n",
        "\n",
        "### income $60,000-$79,999------------------------------------------------------\n",
        "w_income_6079_y <- sum(index_df_2[which(index_df_2$income == \"$60,000-$79,999\" & index_df_2$pap_outcome == \"Yes\"), \"wts_m\"])\n",
        "w_income_6079_n <- sum(index_df_2[which(index_df_2$income == \"$60,000-$79,999\" & index_df_2$pap_outcome == \"No\"), \"wts_m\"])\n",
        "w_income_6079_na <- sum(index_df_2[which(index_df_2$income == \"$60,000-$79,999\" & index_df_2$pap_outcome == \"Not applicable\"), \"wts_m\"])\n",
        "\n",
        "### income $80,000 or more------------------------------------------------------\n",
        "w_income_80_more_y <- sum(index_df_2[which(index_df_2$income == \"$80,000 or more\" & index_df_2$pap_outcome == \"Yes\"), \"wts_m\"])\n",
        "w_income_80_more_n <- sum(index_df_2[which(index_df_2$income == \"$80,000 or more\" & index_df_2$pap_outcome == \"No\"), \"wts_m\"])\n",
        "w_income_80_more_na <- sum(index_df_2[which(index_df_2$income == \"$80,000 or more\" & index_df_2$pap_outcome == \"Not applicable\"), \"wts_m\"])\n",
        "\n",
        "### income unknown--------------------------------------------------------------\n",
        "w_income_unknown_y <- sum(index_df_2[which(index_df_2$income == \"Unknown\" & index_df_2$pap_outcome == \"Yes\"), \"wts_m\"])\n",
        "w_income_unknown_n <- sum(index_df_2[which(index_df_2$income == \"Unknown\" & index_df_2$pap_outcome == \"No\"), \"wts_m\"])\n",
        "w_income_unknown_na <- sum(index_df_2[which(index_df_2$income == \"Unknown\" & index_df_2$pap_outcome == \"Not applicable\"), \"wts_m\"])\n",
        "\n",
        "## fill in the rows for age in weighted_pap_prevalence column in table_one_df---\n",
        "table_one_df[11, \"weighted_pap_prevalence\"] <- (w_income_less_20000_y / (w_income_less_20000_n + w_income_less_20000_y + w_income_less_20000_na))\n",
        "table_one_df[12, \"weighted_pap_prevalence\"] <- (w_income_2039_y / (w_income_2039_n + w_income_2039_y + w_income_2039_na))\n",
        "table_one_df[13, \"weighted_pap_prevalence\"] <- (w_income_4059_y / (w_income_4059_n + w_income_4059_y + w_income_4059_na))\n",
        "table_one_df[14, \"weighted_pap_prevalence\"] <- (w_income_6079_y / (w_income_6079_n + w_income_6079_y + w_income_6079_na))\n",
        "table_one_df[15, \"weighted_pap_prevalence\"] <- (w_income_80_more_y / (w_income_80_more_n + w_income_80_more_y + w_income_80_more_na))\n",
        "table_one_df[16, \"weighted_pap_prevalence\"] <- (w_income_unknown_y / (w_income_unknown_n + w_income_unknown_y + w_income_unknown_na))\n",
        "\n",
        "## account for weight in highest level of education ----------------------------\n"
      ],
      "metadata": {
        "id": "i7bR8Nwm77PK"
      },
      "execution_count": 63,
      "outputs": []
    },
    {
      "cell_type": "code",
      "source": [
        "\n",
        "### secondary or less-----------------------------------------------------------\n",
        "w_edu_sec_less_y <- sum(index_df_2[which(index_df_2$education == \"Secondary graduation or less\" & index_df_2$pap_outcome == \"Yes\"), \"wts_m\"])\n",
        "w_edu_sec_less_n <- sum(index_df_2[which(index_df_2$education == \"Secondary graduation or less\" & index_df_2$pap_outcome == \"No\"), \"wts_m\"])\n",
        "w_edu_sec_less_na <- sum(index_df_2[which(index_df_2$education == \"Secondary graduation or less\" & index_df_2$pap_outcome == \"Not applicable\"), \"wts_m\"])\n",
        "\n",
        "### any post secondary----------------------------------------------------------\n",
        "w_edu_post_sec_y <- sum(index_df_2[which(index_df_2$education == \"Any post-secondary education\" & index_df_2$pap_outcome == \"Yes\"), \"wts_m\"])\n",
        "w_edu_post_sec_n <- sum(index_df_2[which(index_df_2$education == \"Any post-secondary education\" & index_df_2$pap_outcome == \"No\"), \"wts_m\"])\n",
        "w_edu_post_sec_na <- sum(index_df_2[which(index_df_2$education == \"Any post-secondary education\" & index_df_2$pap_outcome == \"Not applicable\"), \"wts_m\"])\n",
        "\n",
        "### unknown---------------------------------------------------------------------\n",
        "w_edu_unknown_y <- sum(index_df_2[which(index_df_2$education == \"Unknown\" & index_df_2$pap_outcome == \"Yes\"), \"wts_m\"])\n",
        "w_edu_unknown_n <- sum(index_df_2[which(index_df_2$education == \"Unknown\" & index_df_2$pap_outcome == \"No\"), \"wts_m\"])\n",
        "w_edu_unknown_na <- sum(index_df_2[which(index_df_2$education == \"Unknown\" & index_df_2$pap_outcome == \"Not applicable\"), \"wts_m\"])\n",
        "\n",
        "## fill in the rows for education in weighted_pap_prevalence column in table_one_df\n",
        "table_one_df[18, \"weighted_pap_prevalence\"] <- (w_edu_sec_less_y / (w_edu_sec_less_n + w_edu_sec_less_y + w_edu_sec_less_na))\n",
        "table_one_df[19, \"weighted_pap_prevalence\"] <- (w_edu_post_sec_y / (w_edu_post_sec_n + w_edu_post_sec_y + w_edu_post_sec_na))\n",
        "table_one_df[20, \"weighted_pap_prevalence\"] <- (w_edu_unknown_y / (w_edu_unknown_n + w_edu_unknown_y + w_edu_unknown_na))\n",
        "\n",
        "## account for weight in marital status ----------------------------------------\n",
        "\n",
        "### married/common-law----------------------------------------------------------\n",
        "w_ms_partner_y <- sum(index_df_2[which(index_df_2$ms == \"Married/common-law\" & index_df_2$pap_outcome == \"Yes\"), \"wts_m\"])\n",
        "w_ms_partner_n <- sum(index_df_2[which(index_df_2$ms == \"Married/common-law\" & index_df_2$pap_outcome == \"No\"), \"wts_m\"])\n",
        "w_ms_partner_na <- sum(index_df_2[which(index_df_2$ms == \"Married/common-law\" & index_df_2$pap_outcome == \"Not applicable\"), \"wts_m\"])\n",
        "\n",
        "### widowed/separated/divorced--------------------------------------------------\n",
        "w_ms_wsd_y <- sum(index_df_2[which(index_df_2$ms == \"Widowed/separated/divorced\" & index_df_2$pap_outcome == \"Yes\"), \"wts_m\"])\n",
        "w_ms_wsd_n <- sum(index_df_2[which(index_df_2$ms == \"Widowed/separated/divorced\" & index_df_2$pap_outcome == \"No\"), \"wts_m\"])\n",
        "w_ms_wsd_na <- sum(index_df_2[which(index_df_2$ms == \"Widowed/separated/divorced\" & index_df_2$pap_outcome == \"Not applicable\"), \"wts_m\"])\n",
        "\n",
        "### single/never married--------------------------------------------------------\n",
        "w_ms_sm_y <- sum(index_df_2[which(index_df_2$ms == \"Single/never married\" & index_df_2$pap_outcome == \"Yes\"), \"wts_m\"])\n",
        "w_ms_sm_n <- sum(index_df_2[which(index_df_2$ms == \"Single/never married\" & index_df_2$pap_outcome == \"No\"), \"wts_m\"])\n",
        "w_ms_sm_na <- sum(index_df_2[which(index_df_2$ms == \"Single/never married\" & index_df_2$pap_outcome == \"Not applicable\"), \"wts_m\"])\n",
        "\n",
        "### unknown---------------------------------------------------------------------\n",
        "w_ms_unknown_y <- sum(index_df_2[which(index_df_2$ms == \"Unknown\" & index_df_2$pap_outcome == \"Yes\"), \"wts_m\"])\n",
        "w_ms_unknown_n <- sum(index_df_2[which(index_df_2$ms == \"Unknown\" & index_df_2$pap_outcome == \"No\"), \"wts_m\"])\n",
        "w_ms_unknown_na <- sum(index_df_2[which(index_df_2$ms == \"Unknown\" & index_df_2$pap_outcome == \"Not applicable\"), \"wts_m\"])\n",
        "\n",
        "## fill in the rows for education in weighted_pap_prevalence column in table_one_df\n",
        "table_one_df[22, \"weighted_pap_prevalence\"] <- (w_ms_partner_y / (w_ms_partner_n + w_ms_partner_y + w_ms_partner_na))\n",
        "table_one_df[23, \"weighted_pap_prevalence\"] <- (w_ms_wsd_y / (w_ms_wsd_n + w_ms_wsd_y + w_ms_wsd_na))\n",
        "table_one_df[24, \"weighted_pap_prevalence\"] <- (w_ms_sm_y / (w_ms_sm_n + w_ms_sm_y + w_ms_sm_na))\n",
        "table_one_df[25, \"weighted_pap_prevalence\"] <- (w_ms_unknown_y / (w_ms_unknown_n + w_ms_unknown_y + w_ms_unknown_na))\n",
        "\n",
        "## account for weight in Language spoken most often at home --------------------\n",
        "\n",
        "#### english--------------------------------------------------------------------\n",
        "w_lang_home_english_y <- sum(index_df_2[which(index_df_2$language_home == \"English\" & index_df_2$pap_outcome == \"Yes\"), \"wts_m\"])\n",
        "w_lang_home_english_n <- sum(index_df_2[which(index_df_2$language_home == \"English\" & index_df_2$pap_outcome == \"No\"), \"wts_m\"])\n",
        "w_lang_home_english_na <- sum(index_df_2[which(index_df_2$language_home == \"English\" & index_df_2$pap_outcome == \"Not applicable\"), \"wts_m\"])\n",
        "\n",
        "### other-----------------------------------------------------------------------\n",
        "w_lang_home_other_y <- sum(index_df_2[which(index_df_2$language_home == \"Other\" & index_df_2$pap_outcome == \"Yes\"), \"wts_m\"])\n",
        "w_lang_home_other_n <- sum(index_df_2[which(index_df_2$language_home == \"Other\" & index_df_2$pap_outcome == \"No\"), \"wts_m\"])\n",
        "w_lang_home_other_na <- sum(index_df_2[which(index_df_2$language_home == \"Other\" & index_df_2$pap_outcome == \"Not applicable\"), \"wts_m\"])\n",
        "\n",
        "### unknown---------------------------------------------------------------------\n",
        "w_lang_home_unknown_y <- sum(index_df_2[which(index_df_2$language_home == \"Unknown\" & index_df_2$pap_outcome == \"Yes\"), \"wts_m\"])\n",
        "w_lang_home_unknown_n <- sum(index_df_2[which(index_df_2$language_home == \"Unknown\" & index_df_2$pap_outcome == \"No\"), \"wts_m\"])\n",
        "w_lang_home_unknown_na <- sum(index_df_2[which(index_df_2$language_home == \"Unknown\" & index_df_2$pap_outcome == \"Not applicable\"), \"wts_m\"])\n",
        "\n",
        "## fill in the rows for language in weighted_pap_prevalence column in table_one_df\n",
        "table_one_df[27, \"weighted_pap_prevalence\"] <- (w_lang_home_english_y / (w_lang_home_english_n + w_lang_home_english_y + w_lang_home_english_na))\n",
        "table_one_df[28, \"weighted_pap_prevalence\"] <- (w_lang_home_other_y / (w_lang_home_other_n + w_lang_home_other_y + w_lang_home_other_na))\n",
        "table_one_df[29, \"weighted_pap_prevalence\"] <- (w_lang_home_unknown_y / (w_lang_home_unknown_n + w_lang_home_unknown_y + w_lang_home_unknown_na))\n",
        "\n",
        "## account for weight in Language spoken most often at home --------------------\n",
        "\n",
        "### english---------------------------------------------------------------------\n",
        "w_lang_con_english_y <- sum(index_df_2[which(index_df_2$language_converse == \"English\" & index_df_2$pap_outcome == \"Yes\"), \"wts_m\"])\n",
        "w_lang_con_english_n <- sum(index_df_2[which(index_df_2$language_converse == \"English\" & index_df_2$pap_outcome == \"No\"), \"wts_m\"])\n",
        "w_lang_con_english_na <- sum(index_df_2[which(index_df_2$language_converse == \"English\" & index_df_2$pap_outcome == \"Not applicable\"), \"wts_m\"])\n",
        "\n",
        "### other-----------------------------------------------------------------------\n",
        "w_lang_con_other_y <- sum(index_df_2[which(index_df_2$language_converse == \"Other\" & index_df_2$pap_outcome == \"Yes\"), \"wts_m\"])\n",
        "w_lang_con_other_n <- sum(index_df_2[which(index_df_2$language_converse == \"Other\" & index_df_2$pap_outcome == \"No\"), \"wts_m\"])\n",
        "w_lang_con_other_na <- sum(index_df_2[which(index_df_2$language_converse == \"Other\" & index_df_2$pap_outcome == \"Not applicable\"), \"wts_m\"])\n",
        "\n",
        "### unknown---------------------------------------------------------------------\n",
        "w_lang_con_unknown_y <- sum(index_df_2[which(index_df_2$language_converse == \"Unknown\" & index_df_2$pap_outcome == \"Yes\"), \"wts_m\"])\n",
        "w_lang_con_unknown_n <- sum(index_df_2[which(index_df_2$language_converse == \"Unknown\" & index_df_2$pap_outcome == \"No\"), \"wts_m\"])\n",
        "w_lang_con_unknown_na <- sum(index_df_2[which(index_df_2$language_converse == \"Unknown\" & index_df_2$pap_outcome == \"Not applicable\"), \"wts_m\"])\n",
        "\n",
        "## fill in the rows for language in weighted_pap_prevalence column in table_one_df\n",
        "table_one_df[31, \"weighted_pap_prevalence\"] <- (w_lang_con_english_y / (w_lang_con_english_n + w_lang_con_english_y + w_lang_con_english_na))\n",
        "table_one_df[32, \"weighted_pap_prevalence\"] <- (w_lang_con_other_y / (w_lang_con_other_n + w_lang_con_other_y + w_lang_con_other_na))\n",
        "table_one_df[33, \"weighted_pap_prevalence\"] <- (w_lang_con_unknown_y / (w_lang_con_unknown_n + w_lang_con_unknown_y + w_lang_con_unknown_na))\n"
      ],
      "metadata": {
        "id": "tO1bvZo37_zJ"
      },
      "execution_count": 64,
      "outputs": []
    },
    {
      "cell_type": "code",
      "source": [
        "## final table one--------------------------------------------------------------\n",
        "\n",
        "table_one_df_final <- table_one_df[, c(\"characteristic\", \"total_sample\", \"pap_yes\", \"weighted_pap_prevalence\")]\n",
        "\n",
        "table_one_df_final$weighted_pap_prevalence <- round(table_one_df_final$weighted_pap_prevalence*100, 1)\n",
        "\n",
        "colnames(table_one_df_final) <- c(\"Characteristic\", \"Total sample\", \"Number that had a pap test within the last 3 years\", \"Percentage that sample had a pap test within the last\n",
        "3 years\")\n",
        "\n",
        "# descriptive statistics--------------------------------------------------------\n",
        "\n",
        "### poisson distribution of outcome variable------------------------------------\n",
        "\n",
        "index_df_2$pap_outcome2 <- index_df_2$pap_outcome"
      ],
      "metadata": {
        "id": "hM_g8Yil8CNL"
      },
      "execution_count": 65,
      "outputs": []
    },
    {
      "cell_type": "code",
      "source": [
        "levels(index_df_2$pap_outcome2) <- c(\n",
        "  \"1\",\n",
        "  \"0\",\n",
        "  \"0\"\n",
        ")\n",
        "\n",
        "index_df_2$pap_outcome2 <- as.integer(as.character(index_df_2$pap_outcome2))\n",
        "\n",
        "hist(index_df_2$pap_outcome2)\n",
        "\n",
        "#### poisson regression video 1:  https://www.youtube.com/watch?v=S7MkI6M4suc---\n",
        "#### poisson regression video 2:https://www.youtube.com/watch?v=0XfXHYDYoBA-----\n",
        "\n",
        "# robust poisson regression using conventional logistic regression--------------\n",
        "\n",
        "model_1 <- glm(formula = pap_outcome2 ~ sdcgres + age + income + education + ms, family = poisson(link = \"log\"), data = index_df_2, weights = wts_m)\n",
        "\n",
        "summary(model_1)\n"
      ],
      "metadata": {
        "colab": {
          "base_uri": "https://localhost:8080/",
          "height": 1000
        },
        "id": "oV74CuPu8FXp",
        "outputId": "8a37fb00-ae91-436f-dbd2-bfce44f4bf56"
      },
      "execution_count": 66,
      "outputs": [
        {
          "output_type": "display_data",
          "data": {
            "text/plain": [
              "\n",
              "Call:\n",
              "glm(formula = pap_outcome2 ~ sdcgres + age + income + education + \n",
              "    ms, family = poisson(link = \"log\"), data = index_df_2, weights = wts_m)\n",
              "\n",
              "Deviance Residuals: \n",
              "    Min       1Q   Median       3Q      Max  \n",
              "-88.571   -6.003    2.116    3.835   46.947  \n",
              "\n",
              "Coefficients:\n",
              "                                       Estimate Std. Error  z value Pr(>|z|)\n",
              "(Intercept)                           -0.258870   0.002819  -91.830  < 2e-16\n",
              "sdcgresRecent immigrant               -0.260940   0.002189 -119.219  < 2e-16\n",
              "sdcgresNon-recent immigrant           -0.020305   0.001368  -14.845  < 2e-16\n",
              "sdcgresUnknown                        -0.078898   0.006777  -11.642  < 2e-16\n",
              "age35-54                              -0.050594   0.001419  -35.649  < 2e-16\n",
              "age55-69                              -0.240262   0.001781 -134.938  < 2e-16\n",
              "income$20,000-$39,999                  0.024034   0.002773    8.667  < 2e-16\n",
              "income$40,000-$59,999                  0.056268   0.002730   20.608  < 2e-16\n",
              "income$60,000-$79,999                  0.106816   0.002752   38.813  < 2e-16\n",
              "income$80,000 or more                  0.097321   0.002578   37.744  < 2e-16\n",
              "incomeUnknown                          0.018968   0.002868    6.614 3.75e-11\n",
              "educationAny post-secondary education  0.098393   0.001342   73.298  < 2e-16\n",
              "educationUnknown                       0.053037   0.007130    7.438 1.02e-13\n",
              "msWidowed/separated/divorced          -0.047148   0.001800  -26.190  < 2e-16\n",
              "msSingle/never married                -0.166439   0.001637 -101.699  < 2e-16\n",
              "msUnknown                             -0.042785   0.015542   -2.753  0.00591\n",
              "                                         \n",
              "(Intercept)                           ***\n",
              "sdcgresRecent immigrant               ***\n",
              "sdcgresNon-recent immigrant           ***\n",
              "sdcgresUnknown                        ***\n",
              "age35-54                              ***\n",
              "age55-69                              ***\n",
              "income$20,000-$39,999                 ***\n",
              "income$40,000-$59,999                 ***\n",
              "income$60,000-$79,999                 ***\n",
              "income$80,000 or more                 ***\n",
              "incomeUnknown                         ***\n",
              "educationAny post-secondary education ***\n",
              "educationUnknown                      ***\n",
              "msWidowed/separated/divorced          ***\n",
              "msSingle/never married                ***\n",
              "msUnknown                             ** \n",
              "---\n",
              "Signif. codes:  0 ‘***’ 0.001 ‘**’ 0.01 ‘*’ 0.05 ‘.’ 0.1 ‘ ’ 1\n",
              "\n",
              "(Dispersion parameter for poisson family taken to be 1)\n",
              "\n",
              "    Null deviance: 1717887  on 16705  degrees of freedom\n",
              "Residual deviance: 1655285  on 16690  degrees of freedom\n",
              "AIC: 8122185\n",
              "\n",
              "Number of Fisher Scoring iterations: 5\n"
            ]
          },
          "metadata": {}
        },
        {
          "output_type": "display_data",
          "data": {
            "text/plain": [
              "Plot with title “Histogram of index_df_2$pap_outcome2”"
            ],
            "image/png": "[encoded data removed]"
          },
          "metadata": {
            "image/png": {
              "width": 420,
              "height": 420
            }
          }
        }
      ]
    },
    {
      "cell_type": "code",
      "source": [
        "## check prevalence ratios\n",
        "exp(coef(model_1))\n"
      ],
      "metadata": {
        "colab": {
          "base_uri": "https://localhost:8080/",
          "height": 104
        },
        "id": "vpZBc8-a8MK7",
        "outputId": "ade54abb-c347-4d5c-d9b1-1388155429f0"
      },
      "execution_count": 67,
      "outputs": [
        {
          "output_type": "display_data",
          "data": {
            "text/html": [
              "<style>\n",
              ".dl-inline {width: auto; margin:0; padding: 0}\n",
              ".dl-inline>dt, .dl-inline>dd {float: none; width: auto; display: inline-block}\n",
              ".dl-inline>dt::after {content: \":\\0020\"; padding-right: .5ex}\n",
              ".dl-inline>dt:not(:first-of-type) {padding-left: .5ex}\n",
              "</style><dl class=dl-inline><dt>(Intercept)</dt><dd>0.771923130808038</dd><dt>sdcgresRecent immigrant</dt><dd>0.77032751290105</dd><dt>sdcgresNon-recent immigrant</dt><dd>0.979900243437133</dd><dt>sdcgresUnknown</dt><dd>0.924134065846058</dd><dt>age35-54</dt><dd>0.950664460095176</dd><dt>age55-69</dt><dd>0.786422059309656</dd><dt>income$20,000-$39,999</dt><dd>1.02432489735206</dd><dt>income$40,000-$59,999</dt><dd>1.05788160082317</dd><dt>income$60,000-$79,999</dt><dd>1.11272924830407</dd><dt>income$80,000 or more</dt><dd>1.10221405200792</dd><dt>incomeUnknown</dt><dd>1.01914917826444</dd><dt>educationAny post-secondary education</dt><dd>1.10339597656993</dd><dt>educationUnknown</dt><dd>1.05446870590153</dd><dt>msWidowed/separated/divorced</dt><dd>0.953945993735317</dd><dt>msSingle/never married</dt><dd>0.846674402437543</dd><dt>msUnknown</dt><dd>0.958117322416254</dd></dl>\n"
            ],
            "text/markdown": "(Intercept)\n:   0.771923130808038sdcgresRecent immigrant\n:   0.77032751290105sdcgresNon-recent immigrant\n:   0.979900243437133sdcgresUnknown\n:   0.924134065846058age35-54\n:   0.950664460095176age55-69\n:   0.786422059309656income$20,000-$39,999\n:   1.02432489735206income$40,000-$59,999\n:   1.05788160082317income$60,000-$79,999\n:   1.11272924830407income$80,000 or more\n:   1.10221405200792incomeUnknown\n:   1.01914917826444educationAny post-secondary education\n:   1.10339597656993educationUnknown\n:   1.05446870590153msWidowed/separated/divorced\n:   0.953945993735317msSingle/never married\n:   0.846674402437543msUnknown\n:   0.958117322416254\n\n",
            "text/latex": "\\begin{description*}\n\\item[(Intercept)] 0.771923130808038\n\\item[sdcgresRecent immigrant] 0.77032751290105\n\\item[sdcgresNon-recent immigrant] 0.979900243437133\n\\item[sdcgresUnknown] 0.924134065846058\n\\item[age35-54] 0.950664460095176\n\\item[age55-69] 0.786422059309656\n\\item[income\\textbackslash{}\\$20,000-\\textbackslash{}\\$39,999] 1.02432489735206\n\\item[income\\textbackslash{}\\$40,000-\\textbackslash{}\\$59,999] 1.05788160082317\n\\item[income\\textbackslash{}\\$60,000-\\textbackslash{}\\$79,999] 1.11272924830407\n\\item[income\\textbackslash{}\\$80,000 or more] 1.10221405200792\n\\item[incomeUnknown] 1.01914917826444\n\\item[educationAny post-secondary education] 1.10339597656993\n\\item[educationUnknown] 1.05446870590153\n\\item[msWidowed/separated/divorced] 0.953945993735317\n\\item[msSingle/never married] 0.846674402437543\n\\item[msUnknown] 0.958117322416254\n\\end{description*}\n",
            "text/plain": [
              "                          (Intercept)               sdcgresRecent immigrant \n",
              "                            0.7719231                             0.7703275 \n",
              "          sdcgresNon-recent immigrant                        sdcgresUnknown \n",
              "                            0.9799002                             0.9241341 \n",
              "                             age35-54                              age55-69 \n",
              "                            0.9506645                             0.7864221 \n",
              "                income$20,000-$39,999                 income$40,000-$59,999 \n",
              "                            1.0243249                             1.0578816 \n",
              "                income$60,000-$79,999                 income$80,000 or more \n",
              "                            1.1127292                             1.1022141 \n",
              "                        incomeUnknown educationAny post-secondary education \n",
              "                            1.0191492                             1.1033960 \n",
              "                     educationUnknown          msWidowed/separated/divorced \n",
              "                            1.0544687                             0.9539460 \n",
              "               msSingle/never married                             msUnknown \n",
              "                            0.8466744                             0.9581173 "
            ]
          },
          "metadata": {}
        }
      ]
    },
    {
      "cell_type": "code",
      "source": [
        "## confidence intervals for PR--------------------------------------------------\n",
        "\n",
        "### used code from: from https://stats.oarc.ucla.edu/r/dae/poisson-regression/\n",
        "\n",
        "## LT added for fellow classmates to try your code\n",
        "#source('https://raw.githubusercontent.com/cran/sandwich/master/R/vcovHC.R')\n",
        "#source('https://raw.githubusercontent.com/cran/sandwich/master/R/estfun.R')\n",
        "#source()\n",
        "library(sandwich)\n",
        "#source('https://raw.githubusercontent.com/cran/sandwich/master/R/is.zoo.R')\n",
        "\n",
        "cov.model_1 <- sandwich::vcovHC(model_1, type = \"HC0\")"
      ],
      "metadata": {
        "id": "A-3rClYk8M7I"
      },
      "execution_count": 68,
      "outputs": []
    },
    {
      "cell_type": "code",
      "source": [
        "\n",
        "\n",
        "std.err <- sqrt(diag(cov.model_1))\n",
        "r.est <- cbind(\n",
        "  Estimate = coef(model_1), \"Robust SE\" = std.err,\n",
        "  \"Pr(>|z|)\" = 2 * pnorm(abs(coef(model_1) / std.err), lower.tail = FALSE),\n",
        "  LL = coef(model_1) - 1.96 * std.err,\n",
        "  UL = coef(model_1) + 1.96 * std.err\n",
        ")\n",
        "\n",
        "exp(r.est)\n"
      ],
      "metadata": {
        "colab": {
          "base_uri": "https://localhost:8080/",
          "height": 568
        },
        "id": "-Qt4WRfi8HbD",
        "outputId": "1c71ea04-c10e-48d8-e0f0-e36f4ceb3769"
      },
      "execution_count": 69,
      "outputs": [
        {
          "output_type": "display_data",
          "data": {
            "text/html": [
              "<table class=\"dataframe\">\n",
              "<caption>A matrix: 16 × 5 of type dbl</caption>\n",
              "<thead>\n",
              "\t<tr><th></th><th scope=col>Estimate</th><th scope=col>Robust SE</th><th scope=col>Pr(&gt;|z|)</th><th scope=col>LL</th><th scope=col>UL</th></tr>\n",
              "</thead>\n",
              "<tbody>\n",
              "\t<tr><th scope=row>(Intercept)</th><td>0.7719231</td><td>1.034717</td><td>1.000000</td><td>0.7219770</td><td>0.8253245</td></tr>\n",
              "\t<tr><th scope=row>sdcgresRecent immigrant</th><td>0.7703275</td><td>1.044616</td><td>1.000000</td><td>0.7071638</td><td>0.8391330</td></tr>\n",
              "\t<tr><th scope=row>sdcgresNon-recent immigrant</th><td>0.9799002</td><td>1.019239</td><td>1.331965</td><td>0.9439753</td><td>1.0171924</td></tr>\n",
              "\t<tr><th scope=row>sdcgresUnknown</th><td>0.9241341</td><td>1.076203</td><td>1.326671</td><td>0.8002438</td><td>1.0672044</td></tr>\n",
              "\t<tr><th scope=row>age35-54</th><td>0.9506645</td><td>1.016249</td><td>1.001697</td><td>0.9211011</td><td>0.9811767</td></tr>\n",
              "\t<tr><th scope=row>age55-69</th><td>0.7864221</td><td>1.021639</td><td>1.000000</td><td>0.7541060</td><td>0.8201230</td></tr>\n",
              "\t<tr><th scope=row>income$20,000-$39,999</th><td>1.0243249</td><td>1.036636</td><td>1.655595</td><td>0.9545752</td><td>1.0991711</td></tr>\n",
              "\t<tr><th scope=row>income$40,000-$59,999</th><td>1.0578816</td><td>1.035130</td><td>1.108678</td><td>0.9886598</td><td>1.1319500</td></tr>\n",
              "\t<tr><th scope=row>income$60,000-$79,999</th><td>1.1127292</td><td>1.034879</td><td>1.001838</td><td>1.0404132</td><td>1.1900717</td></tr>\n",
              "\t<tr><th scope=row>income$80,000 or more</th><td>1.1022141</td><td>1.033255</td><td>1.002935</td><td>1.0337587</td><td>1.1752025</td></tr>\n",
              "\t<tr><th scope=row>incomeUnknown</th><td>1.0191492</td><td>1.041633</td><td>1.900121</td><td>0.9408419</td><td>1.1039741</td></tr>\n",
              "\t<tr><th scope=row>educationAny post-secondary education</th><td>1.1033960</td><td>1.018567</td><td>1.000000</td><td>1.0643186</td><td>1.1439082</td></tr>\n",
              "\t<tr><th scope=row>educationUnknown</th><td>1.0544687</td><td>1.083902</td><td>1.665870</td><td>0.9004376</td><td>1.2348487</td></tr>\n",
              "\t<tr><th scope=row>msWidowed/separated/divorced</th><td>0.9539460</td><td>1.024576</td><td>1.053528</td><td>0.9096140</td><td>1.0004386</td></tr>\n",
              "\t<tr><th scope=row>msSingle/never married</th><td>0.8466744</td><td>1.021618</td><td>1.000000</td><td>0.8119164</td><td>0.8829204</td></tr>\n",
              "\t<tr><th scope=row>msUnknown</th><td>0.9581173</td><td>1.193502</td><td>2.245393</td><td>0.6773997</td><td>1.3551657</td></tr>\n",
              "</tbody>\n",
              "</table>\n"
            ],
            "text/markdown": "\nA matrix: 16 × 5 of type dbl\n\n| <!--/--> | Estimate | Robust SE | Pr(&gt;|z|) | LL | UL |\n|---|---|---|---|---|---|\n| (Intercept) | 0.7719231 | 1.034717 | 1.000000 | 0.7219770 | 0.8253245 |\n| sdcgresRecent immigrant | 0.7703275 | 1.044616 | 1.000000 | 0.7071638 | 0.8391330 |\n| sdcgresNon-recent immigrant | 0.9799002 | 1.019239 | 1.331965 | 0.9439753 | 1.0171924 |\n| sdcgresUnknown | 0.9241341 | 1.076203 | 1.326671 | 0.8002438 | 1.0672044 |\n| age35-54 | 0.9506645 | 1.016249 | 1.001697 | 0.9211011 | 0.9811767 |\n| age55-69 | 0.7864221 | 1.021639 | 1.000000 | 0.7541060 | 0.8201230 |\n| income$20,000-$39,999 | 1.0243249 | 1.036636 | 1.655595 | 0.9545752 | 1.0991711 |\n| income$40,000-$59,999 | 1.0578816 | 1.035130 | 1.108678 | 0.9886598 | 1.1319500 |\n| income$60,000-$79,999 | 1.1127292 | 1.034879 | 1.001838 | 1.0404132 | 1.1900717 |\n| income$80,000 or more | 1.1022141 | 1.033255 | 1.002935 | 1.0337587 | 1.1752025 |\n| incomeUnknown | 1.0191492 | 1.041633 | 1.900121 | 0.9408419 | 1.1039741 |\n| educationAny post-secondary education | 1.1033960 | 1.018567 | 1.000000 | 1.0643186 | 1.1439082 |\n| educationUnknown | 1.0544687 | 1.083902 | 1.665870 | 0.9004376 | 1.2348487 |\n| msWidowed/separated/divorced | 0.9539460 | 1.024576 | 1.053528 | 0.9096140 | 1.0004386 |\n| msSingle/never married | 0.8466744 | 1.021618 | 1.000000 | 0.8119164 | 0.8829204 |\n| msUnknown | 0.9581173 | 1.193502 | 2.245393 | 0.6773997 | 1.3551657 |\n\n",
            "text/latex": "A matrix: 16 × 5 of type dbl\n\\begin{tabular}{r|lllll}\n  & Estimate & Robust SE & Pr(>\\textbar{}z\\textbar{}) & LL & UL\\\\\n\\hline\n\t(Intercept) & 0.7719231 & 1.034717 & 1.000000 & 0.7219770 & 0.8253245\\\\\n\tsdcgresRecent immigrant & 0.7703275 & 1.044616 & 1.000000 & 0.7071638 & 0.8391330\\\\\n\tsdcgresNon-recent immigrant & 0.9799002 & 1.019239 & 1.331965 & 0.9439753 & 1.0171924\\\\\n\tsdcgresUnknown & 0.9241341 & 1.076203 & 1.326671 & 0.8002438 & 1.0672044\\\\\n\tage35-54 & 0.9506645 & 1.016249 & 1.001697 & 0.9211011 & 0.9811767\\\\\n\tage55-69 & 0.7864221 & 1.021639 & 1.000000 & 0.7541060 & 0.8201230\\\\\n\tincome\\$20,000-\\$39,999 & 1.0243249 & 1.036636 & 1.655595 & 0.9545752 & 1.0991711\\\\\n\tincome\\$40,000-\\$59,999 & 1.0578816 & 1.035130 & 1.108678 & 0.9886598 & 1.1319500\\\\\n\tincome\\$60,000-\\$79,999 & 1.1127292 & 1.034879 & 1.001838 & 1.0404132 & 1.1900717\\\\\n\tincome\\$80,000 or more & 1.1022141 & 1.033255 & 1.002935 & 1.0337587 & 1.1752025\\\\\n\tincomeUnknown & 1.0191492 & 1.041633 & 1.900121 & 0.9408419 & 1.1039741\\\\\n\teducationAny post-secondary education & 1.1033960 & 1.018567 & 1.000000 & 1.0643186 & 1.1439082\\\\\n\teducationUnknown & 1.0544687 & 1.083902 & 1.665870 & 0.9004376 & 1.2348487\\\\\n\tmsWidowed/separated/divorced & 0.9539460 & 1.024576 & 1.053528 & 0.9096140 & 1.0004386\\\\\n\tmsSingle/never married & 0.8466744 & 1.021618 & 1.000000 & 0.8119164 & 0.8829204\\\\\n\tmsUnknown & 0.9581173 & 1.193502 & 2.245393 & 0.6773997 & 1.3551657\\\\\n\\end{tabular}\n",
            "text/plain": [
              "                                      Estimate  Robust SE Pr(>|z|) LL       \n",
              "(Intercept)                           0.7719231 1.034717  1.000000 0.7219770\n",
              "sdcgresRecent immigrant               0.7703275 1.044616  1.000000 0.7071638\n",
              "sdcgresNon-recent immigrant           0.9799002 1.019239  1.331965 0.9439753\n",
              "sdcgresUnknown                        0.9241341 1.076203  1.326671 0.8002438\n",
              "age35-54                              0.9506645 1.016249  1.001697 0.9211011\n",
              "age55-69                              0.7864221 1.021639  1.000000 0.7541060\n",
              "income$20,000-$39,999                 1.0243249 1.036636  1.655595 0.9545752\n",
              "income$40,000-$59,999                 1.0578816 1.035130  1.108678 0.9886598\n",
              "income$60,000-$79,999                 1.1127292 1.034879  1.001838 1.0404132\n",
              "income$80,000 or more                 1.1022141 1.033255  1.002935 1.0337587\n",
              "incomeUnknown                         1.0191492 1.041633  1.900121 0.9408419\n",
              "educationAny post-secondary education 1.1033960 1.018567  1.000000 1.0643186\n",
              "educationUnknown                      1.0544687 1.083902  1.665870 0.9004376\n",
              "msWidowed/separated/divorced          0.9539460 1.024576  1.053528 0.9096140\n",
              "msSingle/never married                0.8466744 1.021618  1.000000 0.8119164\n",
              "msUnknown                             0.9581173 1.193502  2.245393 0.6773997\n",
              "                                      UL       \n",
              "(Intercept)                           0.8253245\n",
              "sdcgresRecent immigrant               0.8391330\n",
              "sdcgresNon-recent immigrant           1.0171924\n",
              "sdcgresUnknown                        1.0672044\n",
              "age35-54                              0.9811767\n",
              "age55-69                              0.8201230\n",
              "income$20,000-$39,999                 1.0991711\n",
              "income$40,000-$59,999                 1.1319500\n",
              "income$60,000-$79,999                 1.1900717\n",
              "income$80,000 or more                 1.1752025\n",
              "incomeUnknown                         1.1039741\n",
              "educationAny post-secondary education 1.1439082\n",
              "educationUnknown                      1.2348487\n",
              "msWidowed/separated/divorced          1.0004386\n",
              "msSingle/never married                0.8829204\n",
              "msUnknown                             1.3551657"
            ]
          },
          "metadata": {}
        }
      ]
    },
    {
      "cell_type": "code",
      "source": [
        "deltamethod<-function (g, mean, cov, ses = TRUE) \n",
        "{\n",
        "    cov <- as.matrix(cov)\n",
        "    n <- length(mean)\n",
        "    if (!is.list(g)) \n",
        "        g <- list(g)\n",
        "    if ((dim(cov)[1] != n) || (dim(cov)[2] != n)) \n",
        "        stop(paste(\"Covariances should be a \", n, \" by \", n, \n",
        "            \" matrix\"))\n",
        "    syms <- paste(\"x\", 1:n, sep = \"\")\n",
        "    for (i in 1:n) assign(syms[i], mean[i])\n",
        "    gdashmu <- t(sapply(g, function(form) {\n",
        "        as.numeric(attr(eval(deriv(form, syms)), \"gradient\"))\n",
        "    }))\n",
        "    new.covar <- gdashmu %*% cov %*% t(gdashmu)\n",
        "    if (ses) {\n",
        "        new.se <- sqrt(diag(new.covar))\n",
        "        new.se\n",
        "    }\n",
        "    else new.covar\n",
        "}\n",
        "\n",
        "s <- deltamethod(\n",
        "  list(~ exp(x1), ~ exp(x2), ~ exp(x3), ~ exp(x4)),\n",
        "  coef(model_1), cov.model_1\n",
        ")"
      ],
      "metadata": {
        "id": "BDqZweViFRaF"
      },
      "execution_count": 70,
      "outputs": []
    },
    {
      "cell_type": "code",
      "source": [
        "\n",
        "### exponentiate old estimates dropping the p values----------------------------\n",
        "\n",
        "rexp.est <- exp(r.est[, -3])\n",
        "\n",
        "### replace standard errors (ER) with estimates for exponentiated------------=--\n",
        "\n",
        "rexp.est[, \"Robust SE\"] <- s\n",
        "\n",
        "rexp.est"
      ],
      "metadata": {
        "colab": {
          "base_uri": "https://localhost:8080/",
          "height": 568
        },
        "id": "jaVIDnVdFp8L",
        "outputId": "16ea853a-23f1-42c1-ab4a-275f99704247"
      },
      "execution_count": 72,
      "outputs": [
        {
          "output_type": "display_data",
          "data": {
            "text/html": [
              "<table class=\"dataframe\">\n",
              "<caption>A matrix: 16 × 4 of type dbl</caption>\n",
              "<thead>\n",
              "\t<tr><th></th><th scope=col>Estimate</th><th scope=col>Robust SE</th><th scope=col>LL</th><th scope=col>UL</th></tr>\n",
              "</thead>\n",
              "<tbody>\n",
              "\t<tr><th scope=row>(Intercept)</th><td>0.7719231</td><td>0.02634450</td><td>0.7219770</td><td>0.8253245</td></tr>\n",
              "\t<tr><th scope=row>sdcgresRecent immigrant</th><td>0.7703275</td><td>0.03362457</td><td>0.7071638</td><td>0.8391330</td></tr>\n",
              "\t<tr><th scope=row>sdcgresNon-recent immigrant</th><td>0.9799002</td><td>0.01867350</td><td>0.9439753</td><td>1.0171924</td></tr>\n",
              "\t<tr><th scope=row>sdcgresUnknown</th><td>0.9241341</td><td>0.06786760</td><td>0.8002438</td><td>1.0672044</td></tr>\n",
              "\t<tr><th scope=row>age35-54</th><td>0.9506645</td><td>0.02634450</td><td>0.9211011</td><td>0.9811767</td></tr>\n",
              "\t<tr><th scope=row>age55-69</th><td>0.7864221</td><td>0.03362457</td><td>0.7541060</td><td>0.8201230</td></tr>\n",
              "\t<tr><th scope=row>income$20,000-$39,999</th><td>1.0243249</td><td>0.01867350</td><td>0.9545752</td><td>1.0991711</td></tr>\n",
              "\t<tr><th scope=row>income$40,000-$59,999</th><td>1.0578816</td><td>0.06786760</td><td>0.9886598</td><td>1.1319500</td></tr>\n",
              "\t<tr><th scope=row>income$60,000-$79,999</th><td>1.1127292</td><td>0.02634450</td><td>1.0404132</td><td>1.1900717</td></tr>\n",
              "\t<tr><th scope=row>income$80,000 or more</th><td>1.1022141</td><td>0.03362457</td><td>1.0337587</td><td>1.1752025</td></tr>\n",
              "\t<tr><th scope=row>incomeUnknown</th><td>1.0191492</td><td>0.01867350</td><td>0.9408419</td><td>1.1039741</td></tr>\n",
              "\t<tr><th scope=row>educationAny post-secondary education</th><td>1.1033960</td><td>0.06786760</td><td>1.0643186</td><td>1.1439082</td></tr>\n",
              "\t<tr><th scope=row>educationUnknown</th><td>1.0544687</td><td>0.02634450</td><td>0.9004376</td><td>1.2348487</td></tr>\n",
              "\t<tr><th scope=row>msWidowed/separated/divorced</th><td>0.9539460</td><td>0.03362457</td><td>0.9096140</td><td>1.0004386</td></tr>\n",
              "\t<tr><th scope=row>msSingle/never married</th><td>0.8466744</td><td>0.01867350</td><td>0.8119164</td><td>0.8829204</td></tr>\n",
              "\t<tr><th scope=row>msUnknown</th><td>0.9581173</td><td>0.06786760</td><td>0.6773997</td><td>1.3551657</td></tr>\n",
              "</tbody>\n",
              "</table>\n"
            ],
            "text/markdown": "\nA matrix: 16 × 4 of type dbl\n\n| <!--/--> | Estimate | Robust SE | LL | UL |\n|---|---|---|---|---|\n| (Intercept) | 0.7719231 | 0.02634450 | 0.7219770 | 0.8253245 |\n| sdcgresRecent immigrant | 0.7703275 | 0.03362457 | 0.7071638 | 0.8391330 |\n| sdcgresNon-recent immigrant | 0.9799002 | 0.01867350 | 0.9439753 | 1.0171924 |\n| sdcgresUnknown | 0.9241341 | 0.06786760 | 0.8002438 | 1.0672044 |\n| age35-54 | 0.9506645 | 0.02634450 | 0.9211011 | 0.9811767 |\n| age55-69 | 0.7864221 | 0.03362457 | 0.7541060 | 0.8201230 |\n| income$20,000-$39,999 | 1.0243249 | 0.01867350 | 0.9545752 | 1.0991711 |\n| income$40,000-$59,999 | 1.0578816 | 0.06786760 | 0.9886598 | 1.1319500 |\n| income$60,000-$79,999 | 1.1127292 | 0.02634450 | 1.0404132 | 1.1900717 |\n| income$80,000 or more | 1.1022141 | 0.03362457 | 1.0337587 | 1.1752025 |\n| incomeUnknown | 1.0191492 | 0.01867350 | 0.9408419 | 1.1039741 |\n| educationAny post-secondary education | 1.1033960 | 0.06786760 | 1.0643186 | 1.1439082 |\n| educationUnknown | 1.0544687 | 0.02634450 | 0.9004376 | 1.2348487 |\n| msWidowed/separated/divorced | 0.9539460 | 0.03362457 | 0.9096140 | 1.0004386 |\n| msSingle/never married | 0.8466744 | 0.01867350 | 0.8119164 | 0.8829204 |\n| msUnknown | 0.9581173 | 0.06786760 | 0.6773997 | 1.3551657 |\n\n",
            "text/latex": "A matrix: 16 × 4 of type dbl\n\\begin{tabular}{r|llll}\n  & Estimate & Robust SE & LL & UL\\\\\n\\hline\n\t(Intercept) & 0.7719231 & 0.02634450 & 0.7219770 & 0.8253245\\\\\n\tsdcgresRecent immigrant & 0.7703275 & 0.03362457 & 0.7071638 & 0.8391330\\\\\n\tsdcgresNon-recent immigrant & 0.9799002 & 0.01867350 & 0.9439753 & 1.0171924\\\\\n\tsdcgresUnknown & 0.9241341 & 0.06786760 & 0.8002438 & 1.0672044\\\\\n\tage35-54 & 0.9506645 & 0.02634450 & 0.9211011 & 0.9811767\\\\\n\tage55-69 & 0.7864221 & 0.03362457 & 0.7541060 & 0.8201230\\\\\n\tincome\\$20,000-\\$39,999 & 1.0243249 & 0.01867350 & 0.9545752 & 1.0991711\\\\\n\tincome\\$40,000-\\$59,999 & 1.0578816 & 0.06786760 & 0.9886598 & 1.1319500\\\\\n\tincome\\$60,000-\\$79,999 & 1.1127292 & 0.02634450 & 1.0404132 & 1.1900717\\\\\n\tincome\\$80,000 or more & 1.1022141 & 0.03362457 & 1.0337587 & 1.1752025\\\\\n\tincomeUnknown & 1.0191492 & 0.01867350 & 0.9408419 & 1.1039741\\\\\n\teducationAny post-secondary education & 1.1033960 & 0.06786760 & 1.0643186 & 1.1439082\\\\\n\teducationUnknown & 1.0544687 & 0.02634450 & 0.9004376 & 1.2348487\\\\\n\tmsWidowed/separated/divorced & 0.9539460 & 0.03362457 & 0.9096140 & 1.0004386\\\\\n\tmsSingle/never married & 0.8466744 & 0.01867350 & 0.8119164 & 0.8829204\\\\\n\tmsUnknown & 0.9581173 & 0.06786760 & 0.6773997 & 1.3551657\\\\\n\\end{tabular}\n",
            "text/plain": [
              "                                      Estimate  Robust SE  LL        UL       \n",
              "(Intercept)                           0.7719231 0.02634450 0.7219770 0.8253245\n",
              "sdcgresRecent immigrant               0.7703275 0.03362457 0.7071638 0.8391330\n",
              "sdcgresNon-recent immigrant           0.9799002 0.01867350 0.9439753 1.0171924\n",
              "sdcgresUnknown                        0.9241341 0.06786760 0.8002438 1.0672044\n",
              "age35-54                              0.9506645 0.02634450 0.9211011 0.9811767\n",
              "age55-69                              0.7864221 0.03362457 0.7541060 0.8201230\n",
              "income$20,000-$39,999                 1.0243249 0.01867350 0.9545752 1.0991711\n",
              "income$40,000-$59,999                 1.0578816 0.06786760 0.9886598 1.1319500\n",
              "income$60,000-$79,999                 1.1127292 0.02634450 1.0404132 1.1900717\n",
              "income$80,000 or more                 1.1022141 0.03362457 1.0337587 1.1752025\n",
              "incomeUnknown                         1.0191492 0.01867350 0.9408419 1.1039741\n",
              "educationAny post-secondary education 1.1033960 0.06786760 1.0643186 1.1439082\n",
              "educationUnknown                      1.0544687 0.02634450 0.9004376 1.2348487\n",
              "msWidowed/separated/divorced          0.9539460 0.03362457 0.9096140 1.0004386\n",
              "msSingle/never married                0.8466744 0.01867350 0.8119164 0.8829204\n",
              "msUnknown                             0.9581173 0.06786760 0.6773997 1.3551657"
            ]
          },
          "metadata": {}
        }
      ]
    },
    {
      "cell_type": "code",
      "source": [
        "\n",
        "\n",
        "\n",
        "# create and format table two---------------------------------------------------\n",
        "\n",
        "table_two <- data.frame(rexp.est)\n",
        "\n",
        "table_two_df <- table_two\n",
        "\n",
        "## add column for characteristic on the left side of the table------------------\n",
        "\n",
        "table_two_df <- add_column(table_two_df, characteristic = \"\", .before = \"Estimate\")\n",
        "\n",
        "## add in title rows to the table two dataframe---------------------------------\n",
        "\n",
        "table_two_df <- rbind(\n",
        "  table_two_df[1, ],\n",
        "  c(\"Immigrant status (reference: non-immigrants)\", \"\", \"\", \"\", \"\"),\n",
        "  table_two_df[2:4, ],\n",
        "  c(\"Age (reference: age 20–34)\", \"\", \"\", \"\", \"\"),\n",
        "  table_two_df[5:6, ],\n",
        "  c(\"Income (reference: >$20,000)\", \"\", \"\", \"\", \"\"),\n",
        "  table_two_df[7:11, ],\n",
        "  c(\"Level of education (reference: secondary graduation or less)\", \"\", \"\", \"\", \"\"),\n",
        "  table_two_df[12:13, ],\n",
        "  c(\"Marital status (reference: married/common-law)\", \"\", \"\", \"\", \"\"),\n",
        "  table_two_df[14:16, ]\n",
        ")\n"
      ],
      "metadata": {
        "id": "9Ee-AjGiFsdn"
      },
      "execution_count": 73,
      "outputs": []
    },
    {
      "cell_type": "code",
      "source": [
        "## add in intercept label-------------------------------------------------------\n",
        "\n",
        "table_two_df[1, \"characteristic\"] <- \"Intercept\"\n",
        "\n",
        "## add in immigrant status labels-----------------------------------------------\n",
        "\n",
        "table_two_df[c(3, 4, 5), \"characteristic\"] <- c(\n",
        "  \"Recent immigrants (<10 years in Canada)\",\n",
        "  \"Non-recent immigrants (>=10 years in Canada)\",\n",
        "  \"Unknown\"\n",
        ")\n",
        "\n",
        "## add in age labels------------------------------------------------------------\n",
        "table_two_df[c(7, 8), \"characteristic\"] <- c(\n",
        "  \"Age 35–54\",\n",
        "  \"Age 55–69\"\n",
        ")\n",
        "\n",
        "## add in income labels---------------------------------------------------------\n",
        "table_two_df[c(10, 11, 12, 13, 14), \"characteristic\"] <- c(\n",
        "  \"$20,000–$39,999\",\n",
        "  \"$40,000–$59,999\",\n",
        "  \"$60,000–$79,999\",\n",
        "  \"$80,000 or more\",\n",
        "  \"Unknown\"\n",
        ")"
      ],
      "metadata": {
        "id": "BzdrCijiFyIu"
      },
      "execution_count": 76,
      "outputs": []
    },
    {
      "cell_type": "code",
      "source": [
        "## add in education labels------------------------------------------------------\n",
        "\n",
        "table_two_df[c(16, 17), \"characteristic\"] <- c(\n",
        "  \"Any post-secondary education\",\n",
        "  \"Unknown\"\n",
        ")\n",
        "\n",
        "\n",
        "## add in marital status labels-------------------------------------------------\n",
        "\n",
        "table_two_df[c(19, 20, 21), \"characteristic\"] <- c(\n",
        "  \"Widowed/separated/divorced\",\n",
        "  \"Single/never married\",\n",
        "  \"Unknown\"\n",
        ")\n",
        "\n",
        "## remove row names and replace with numbers -----------------------------------\n",
        "\n",
        "rownames(table_two_df) <- 1:21\n",
        "\n",
        "## add column names names and replace with numbers -----------------------------\n",
        "\n",
        "colnames(table_two_df) <- c(\"Characteristic\", \"Prevalence Ratio\", \"Robust Standard Error\", \"Lower 95% CI\", \"Upper 95% CI\")\n",
        "\n",
        "## change variables to numeric--------------------------------------------------\n",
        "\n",
        "table_two_df$`Prevalence Ratio` <- round(as.numeric(table_two_df$`Prevalence Ratio`), 2)\n",
        "table_two_df$`Lower 95% CI` <- round(as.numeric(table_two_df$`Lower 95% CI`), 2)\n",
        "table_two_df$`Upper 95% CI` <- round(as.numeric(table_two_df$`Upper 95% CI`), 2)\n",
        "\n",
        "## create final version of table two--------------------------------------------\n",
        "\n",
        "table_two_df_final <- table_two_df[, c(\"Characteristic\", \"Prevalence Ratio\", \"Lower 95% CI\", \"Upper 95% CI\")]\n",
        "\n",
        "## add p value to final table two-----------------------------------------------\n",
        "\n",
        "table_two_df$`Robust Standard Error` <- as.numeric(table_two_df$`Robust Standard Error`)\n",
        "\n",
        "table_two_df$`P Value` <- exp(-0.717 * abs((log(table_two_df$`Prevalence Ratio`) / table_two_df$`Robust Standard Error`))\n",
        "  - 0.416 * ((log(table_two_df$`Prevalence Ratio`) / table_two_df$`Robust Standard Error`))^2)\n",
        "\n",
        "table_two_df$`P Value` <- round(as.numeric(table_two_df$`P Value`), 10)\n",
        "table_two_df$`P Value 2` <- NA\n",
        "table_two_df$`P Value 2`[round(table_two_df$`P Value`, 2) <= 0.05] <- \"a\"\n",
        "table_two_df_final$`P Value` <- table_two_df$`P Value 2` "
      ],
      "metadata": {
        "id": "lswUeYEgdVEB"
      },
      "execution_count": 77,
      "outputs": []
    },
    {
      "cell_type": "code",
      "source": [
        "table_two_df_final"
      ],
      "metadata": {
        "colab": {
          "base_uri": "https://localhost:8080/",
          "height": 757
        },
        "id": "xVbQ2MUfF2Vq",
        "outputId": "cc389298-20c3-4945-9fc5-378e9d0cdecb"
      },
      "execution_count": 78,
      "outputs": [
        {
          "output_type": "display_data",
          "data": {
            "text/html": [
              "<table class=\"dataframe\">\n",
              "<caption>A data.frame: 21 × 5</caption>\n",
              "<thead>\n",
              "\t<tr><th></th><th scope=col>Characteristic</th><th scope=col>Prevalence Ratio</th><th scope=col>Lower 95% CI</th><th scope=col>Upper 95% CI</th><th scope=col>P Value</th></tr>\n",
              "\t<tr><th></th><th scope=col>&lt;chr&gt;</th><th scope=col>&lt;dbl&gt;</th><th scope=col>&lt;dbl&gt;</th><th scope=col>&lt;dbl&gt;</th><th scope=col>&lt;chr&gt;</th></tr>\n",
              "</thead>\n",
              "<tbody>\n",
              "\t<tr><th scope=row>1</th><td>Intercept                                                   </td><td>0.77</td><td>0.72</td><td>0.83</td><td>a </td></tr>\n",
              "\t<tr><th scope=row>2</th><td>Immigrant status (reference: non-immigrants)                </td><td>  NA</td><td>  NA</td><td>  NA</td><td>NA</td></tr>\n",
              "\t<tr><th scope=row>3</th><td><span style=white-space:pre-wrap>Recent immigrants (&lt;10 years in Canada)                     </span></td><td>0.77</td><td>0.71</td><td>0.84</td><td>a </td></tr>\n",
              "\t<tr><th scope=row>4</th><td><span style=white-space:pre-wrap>Non-recent immigrants (&gt;=10 years in Canada)                </span></td><td>0.98</td><td>0.94</td><td>1.02</td><td>NA</td></tr>\n",
              "\t<tr><th scope=row>5</th><td>Unknown                                                     </td><td>0.92</td><td>0.80</td><td>1.07</td><td>NA</td></tr>\n",
              "\t<tr><th scope=row>6</th><td>Age (reference: age 20–34)                                  </td><td>  NA</td><td>  NA</td><td>  NA</td><td>NA</td></tr>\n",
              "\t<tr><th scope=row>7</th><td>Age 35–54                                                   </td><td>0.95</td><td>0.92</td><td>0.98</td><td>a </td></tr>\n",
              "\t<tr><th scope=row>8</th><td>Age 55–69                                                   </td><td>0.79</td><td>0.75</td><td>0.82</td><td>a </td></tr>\n",
              "\t<tr><th scope=row>9</th><td><span style=white-space:pre-wrap>Income (reference: &gt;$20,000)                                </span></td><td><span style=white-space:pre-wrap>  NA</span></td><td><span style=white-space:pre-wrap>  NA</span></td><td><span style=white-space:pre-wrap>  NA</span></td><td>NA</td></tr>\n",
              "\t<tr><th scope=row>10</th><td>$20,000–$39,999                                             </td><td>1.02</td><td>0.95</td><td>1.10</td><td>NA</td></tr>\n",
              "\t<tr><th scope=row>11</th><td>$40,000–$59,999                                             </td><td>1.06</td><td>0.99</td><td>1.13</td><td>NA</td></tr>\n",
              "\t<tr><th scope=row>12</th><td>$60,000–$79,999                                             </td><td>1.11</td><td>1.04</td><td>1.19</td><td>a </td></tr>\n",
              "\t<tr><th scope=row>13</th><td>$80,000 or more                                             </td><td>1.10</td><td>1.03</td><td>1.18</td><td>a </td></tr>\n",
              "\t<tr><th scope=row>14</th><td>Unknown                                                     </td><td>1.02</td><td>0.94</td><td>1.10</td><td>NA</td></tr>\n",
              "\t<tr><th scope=row>15</th><td>Level of education (reference: secondary graduation or less)</td><td>  NA</td><td>  NA</td><td>  NA</td><td>NA</td></tr>\n",
              "\t<tr><th scope=row>16</th><td>Any post-secondary education                                </td><td>1.10</td><td>1.06</td><td>1.14</td><td>NA</td></tr>\n",
              "\t<tr><th scope=row>17</th><td>Unknown                                                     </td><td>1.05</td><td>0.90</td><td>1.23</td><td>NA</td></tr>\n",
              "\t<tr><th scope=row>18</th><td>Marital status (reference: married/common-law)              </td><td>  NA</td><td>  NA</td><td>  NA</td><td>NA</td></tr>\n",
              "\t<tr><th scope=row>19</th><td>Widowed/separated/divorced                                  </td><td>0.95</td><td>0.91</td><td>1.00</td><td>NA</td></tr>\n",
              "\t<tr><th scope=row>20</th><td>Single/never married                                        </td><td>0.85</td><td>0.81</td><td>0.88</td><td>a </td></tr>\n",
              "\t<tr><th scope=row>21</th><td>Unknown                                                     </td><td>0.96</td><td>0.68</td><td>1.36</td><td>NA</td></tr>\n",
              "</tbody>\n",
              "</table>\n"
            ],
            "text/markdown": "\nA data.frame: 21 × 5\n\n| <!--/--> | Characteristic &lt;chr&gt; | Prevalence Ratio &lt;dbl&gt; | Lower 95% CI &lt;dbl&gt; | Upper 95% CI &lt;dbl&gt; | P Value &lt;chr&gt; |\n|---|---|---|---|---|---|\n| 1 | Intercept                                                    | 0.77 | 0.72 | 0.83 | a  |\n| 2 | Immigrant status (reference: non-immigrants)                 |   NA |   NA |   NA | NA |\n| 3 | Recent immigrants (&lt;10 years in Canada)                      | 0.77 | 0.71 | 0.84 | a  |\n| 4 | Non-recent immigrants (&gt;=10 years in Canada)                 | 0.98 | 0.94 | 1.02 | NA |\n| 5 | Unknown                                                      | 0.92 | 0.80 | 1.07 | NA |\n| 6 | Age (reference: age 20–34)                                   |   NA |   NA |   NA | NA |\n| 7 | Age 35–54                                                    | 0.95 | 0.92 | 0.98 | a  |\n| 8 | Age 55–69                                                    | 0.79 | 0.75 | 0.82 | a  |\n| 9 | Income (reference: &gt;$20,000)                                 |   NA |   NA |   NA | NA |\n| 10 | $20,000–$39,999                                              | 1.02 | 0.95 | 1.10 | NA |\n| 11 | $40,000–$59,999                                              | 1.06 | 0.99 | 1.13 | NA |\n| 12 | $60,000–$79,999                                              | 1.11 | 1.04 | 1.19 | a  |\n| 13 | $80,000 or more                                              | 1.10 | 1.03 | 1.18 | a  |\n| 14 | Unknown                                                      | 1.02 | 0.94 | 1.10 | NA |\n| 15 | Level of education (reference: secondary graduation or less) |   NA |   NA |   NA | NA |\n| 16 | Any post-secondary education                                 | 1.10 | 1.06 | 1.14 | NA |\n| 17 | Unknown                                                      | 1.05 | 0.90 | 1.23 | NA |\n| 18 | Marital status (reference: married/common-law)               |   NA |   NA |   NA | NA |\n| 19 | Widowed/separated/divorced                                   | 0.95 | 0.91 | 1.00 | NA |\n| 20 | Single/never married                                         | 0.85 | 0.81 | 0.88 | a  |\n| 21 | Unknown                                                      | 0.96 | 0.68 | 1.36 | NA |\n\n",
            "text/latex": "A data.frame: 21 × 5\n\\begin{tabular}{r|lllll}\n  & Characteristic & Prevalence Ratio & Lower 95\\% CI & Upper 95\\% CI & P Value\\\\\n  & <chr> & <dbl> & <dbl> & <dbl> & <chr>\\\\\n\\hline\n\t1 & Intercept                                                    & 0.77 & 0.72 & 0.83 & a \\\\\n\t2 & Immigrant status (reference: non-immigrants)                 &   NA &   NA &   NA & NA\\\\\n\t3 & Recent immigrants (<10 years in Canada)                      & 0.77 & 0.71 & 0.84 & a \\\\\n\t4 & Non-recent immigrants (>=10 years in Canada)                 & 0.98 & 0.94 & 1.02 & NA\\\\\n\t5 & Unknown                                                      & 0.92 & 0.80 & 1.07 & NA\\\\\n\t6 & Age (reference: age 20–34)                                   &   NA &   NA &   NA & NA\\\\\n\t7 & Age 35–54                                                    & 0.95 & 0.92 & 0.98 & a \\\\\n\t8 & Age 55–69                                                    & 0.79 & 0.75 & 0.82 & a \\\\\n\t9 & Income (reference: >\\$20,000)                                 &   NA &   NA &   NA & NA\\\\\n\t10 & \\$20,000–\\$39,999                                              & 1.02 & 0.95 & 1.10 & NA\\\\\n\t11 & \\$40,000–\\$59,999                                              & 1.06 & 0.99 & 1.13 & NA\\\\\n\t12 & \\$60,000–\\$79,999                                              & 1.11 & 1.04 & 1.19 & a \\\\\n\t13 & \\$80,000 or more                                              & 1.10 & 1.03 & 1.18 & a \\\\\n\t14 & Unknown                                                      & 1.02 & 0.94 & 1.10 & NA\\\\\n\t15 & Level of education (reference: secondary graduation or less) &   NA &   NA &   NA & NA\\\\\n\t16 & Any post-secondary education                                 & 1.10 & 1.06 & 1.14 & NA\\\\\n\t17 & Unknown                                                      & 1.05 & 0.90 & 1.23 & NA\\\\\n\t18 & Marital status (reference: married/common-law)               &   NA &   NA &   NA & NA\\\\\n\t19 & Widowed/separated/divorced                                   & 0.95 & 0.91 & 1.00 & NA\\\\\n\t20 & Single/never married                                         & 0.85 & 0.81 & 0.88 & a \\\\\n\t21 & Unknown                                                      & 0.96 & 0.68 & 1.36 & NA\\\\\n\\end{tabular}\n",
            "text/plain": [
              "   Characteristic                                              \n",
              "1  Intercept                                                   \n",
              "2  Immigrant status (reference: non-immigrants)                \n",
              "3  Recent immigrants (<10 years in Canada)                     \n",
              "4  Non-recent immigrants (>=10 years in Canada)                \n",
              "5  Unknown                                                     \n",
              "6  Age (reference: age 20–34)                                  \n",
              "7  Age 35–54                                                   \n",
              "8  Age 55–69                                                   \n",
              "9  Income (reference: >$20,000)                                \n",
              "10 $20,000–$39,999                                             \n",
              "11 $40,000–$59,999                                             \n",
              "12 $60,000–$79,999                                             \n",
              "13 $80,000 or more                                             \n",
              "14 Unknown                                                     \n",
              "15 Level of education (reference: secondary graduation or less)\n",
              "16 Any post-secondary education                                \n",
              "17 Unknown                                                     \n",
              "18 Marital status (reference: married/common-law)              \n",
              "19 Widowed/separated/divorced                                  \n",
              "20 Single/never married                                        \n",
              "21 Unknown                                                     \n",
              "   Prevalence Ratio Lower 95% CI Upper 95% CI P Value\n",
              "1  0.77             0.72         0.83         a      \n",
              "2    NA               NA           NA         NA     \n",
              "3  0.77             0.71         0.84         a      \n",
              "4  0.98             0.94         1.02         NA     \n",
              "5  0.92             0.80         1.07         NA     \n",
              "6    NA               NA           NA         NA     \n",
              "7  0.95             0.92         0.98         a      \n",
              "8  0.79             0.75         0.82         a      \n",
              "9    NA               NA           NA         NA     \n",
              "10 1.02             0.95         1.10         NA     \n",
              "11 1.06             0.99         1.13         NA     \n",
              "12 1.11             1.04         1.19         a      \n",
              "13 1.10             1.03         1.18         a      \n",
              "14 1.02             0.94         1.10         NA     \n",
              "15   NA               NA           NA         NA     \n",
              "16 1.10             1.06         1.14         NA     \n",
              "17 1.05             0.90         1.23         NA     \n",
              "18   NA               NA           NA         NA     \n",
              "19 0.95             0.91         1.00         NA     \n",
              "20 0.85             0.81         0.88         a      \n",
              "21 0.96             0.68         1.36         NA     "
            ]
          },
          "metadata": {}
        }
      ]
    }
  ]
}